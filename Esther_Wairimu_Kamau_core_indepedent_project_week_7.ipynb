{
  "nbformat": 4,
  "nbformat_minor": 0,
  "metadata": {
    "colab": {
      "name": "Esther Wairimu Kamau core indepedent project week 7.ipynb",
      "provenance": [],
      "collapsed_sections": [],
      "toc_visible": true,
      "authorship_tag": "ABX9TyN2xAJ8bBU0qLQmwyprQ7Ty",
      "include_colab_link": true
    },
    "kernelspec": {
      "name": "python3",
      "display_name": "Python 3"
    }
  },
  "cells": [
    {
      "cell_type": "markdown",
      "metadata": {
        "id": "view-in-github",
        "colab_type": "text"
      },
      "source": [
        "<a href=\"https://colab.research.google.com/github/Eswa2020/week-7-core-project/blob/main/Esther_Wairimu_Kamau_core_indepedent_project_week_7.ipynb\" target=\"_parent\"><img src=\"https://colab.research.google.com/assets/colab-badge.svg\" alt=\"Open In Colab\"/></a>"
      ]
    },
    {
      "cell_type": "markdown",
      "metadata": {
        "id": "uT1YfERmwZ6t"
      },
      "source": [
        "### Research question \n",
        " >As a Data Scientist, you work for Hass Consulting Company which is a real estate leader with over 25 years of experience. You have been tasked to study the factors that affect housing prices using the given information on real estate properties that was collected over the past few months. Later onwards, create a model that would allow the company to accurately predict the sale of prices upon being provided with the predictor variables."
      ]
    },
    {
      "cell_type": "markdown",
      "metadata": {
        "id": "wlNa6lp-NMjU"
      },
      "source": [
        "### Objective of the Project\n",
        "The main objective of this project is to determine factors affecting prices of houses and developing a model to effectively predict the sale prices.\n",
        "\n",
        "* Definition of the research question and metrics of success.\n",
        "\n",
        "* Loading of Dataset to Colab.\n",
        "\n",
        "* Validation.\n",
        "\n",
        "* Tidying the dataset.\n",
        "\n",
        "* Exploratory Data Analysis: Univariate Analysis, Bivariate Analysis &    Multivariate Analysis\n",
        "\n",
        "* Multiple Linear Regression\n",
        "\n",
        "* Quantile Regressio\n",
        "\n",
        "* Lasso Regression\n",
        "\n",
        "* Ridge Regression\n",
        "\n",
        "* Elastic Net Regression\n",
        "\n",
        "Tools required for the project;\n",
        "\n",
        "* Google Colab\n",
        "\n",
        "* Python Library (Pandas, Numpy, matplotlib.pyplot, Seaborn, Sklearn)\n",
        "\n",
        "* Github"
      ]
    },
    {
      "cell_type": "markdown",
      "metadata": {
        "id": "E5t6xmcKx8Lr"
      },
      "source": [
        "### loading the dataset"
      ]
    },
    {
      "cell_type": "code",
      "metadata": {
        "id": "vT9dOURJwV-d"
      },
      "source": [
        "#importing our libraries\n",
        "import pandas as pd\n",
        "import numpy as np\n",
        "import seaborn as sns\n",
        "import matplotlib.pyplot as plt"
      ],
      "execution_count": 1,
      "outputs": []
    },
    {
      "cell_type": "code",
      "metadata": {
        "id": "SFRZdDl4zyXl"
      },
      "source": [
        "#loading our datasets\n",
        "df_house = pd.read_csv('/content/Independent Project Week 7 - house_data.csv')"
      ],
      "execution_count": 2,
      "outputs": []
    },
    {
      "cell_type": "markdown",
      "metadata": {
        "id": "H0pEbk6Q0lUo"
      },
      "source": [
        "\n",
        "### Exploring our dataset"
      ]
    },
    {
      "cell_type": "code",
      "metadata": {
        "colab": {
          "base_uri": "https://localhost:8080/",
          "height": 211
        },
        "id": "8qwrGd5E0rvG",
        "outputId": "9acf3b87-eb6c-43c3-be74-b140a33bb17d"
      },
      "source": [
        "df_house.head(5)"
      ],
      "execution_count": 3,
      "outputs": [
        {
          "output_type": "execute_result",
          "data": {
            "text/html": [
              "<div>\n",
              "<style scoped>\n",
              "    .dataframe tbody tr th:only-of-type {\n",
              "        vertical-align: middle;\n",
              "    }\n",
              "\n",
              "    .dataframe tbody tr th {\n",
              "        vertical-align: top;\n",
              "    }\n",
              "\n",
              "    .dataframe thead th {\n",
              "        text-align: right;\n",
              "    }\n",
              "</style>\n",
              "<table border=\"1\" class=\"dataframe\">\n",
              "  <thead>\n",
              "    <tr style=\"text-align: right;\">\n",
              "      <th></th>\n",
              "      <th>id</th>\n",
              "      <th>price</th>\n",
              "      <th>bedrooms</th>\n",
              "      <th>bathrooms</th>\n",
              "      <th>sqft_living</th>\n",
              "      <th>sqft_lot</th>\n",
              "      <th>floors</th>\n",
              "      <th>waterfront</th>\n",
              "      <th>view</th>\n",
              "      <th>condition</th>\n",
              "      <th>grade</th>\n",
              "      <th>sqft_above</th>\n",
              "      <th>sqft_basement</th>\n",
              "      <th>yr_built</th>\n",
              "      <th>yr_renovated</th>\n",
              "      <th>zipcode</th>\n",
              "      <th>lat</th>\n",
              "      <th>long</th>\n",
              "      <th>sqft_living15</th>\n",
              "      <th>sqft_lot15</th>\n",
              "    </tr>\n",
              "  </thead>\n",
              "  <tbody>\n",
              "    <tr>\n",
              "      <th>0</th>\n",
              "      <td>7129300520</td>\n",
              "      <td>221900.0</td>\n",
              "      <td>3</td>\n",
              "      <td>1.00</td>\n",
              "      <td>1180</td>\n",
              "      <td>5650</td>\n",
              "      <td>1.0</td>\n",
              "      <td>0</td>\n",
              "      <td>0</td>\n",
              "      <td>3</td>\n",
              "      <td>7</td>\n",
              "      <td>1180</td>\n",
              "      <td>0</td>\n",
              "      <td>1955</td>\n",
              "      <td>0</td>\n",
              "      <td>98178</td>\n",
              "      <td>47.5112</td>\n",
              "      <td>-122.257</td>\n",
              "      <td>1340</td>\n",
              "      <td>5650</td>\n",
              "    </tr>\n",
              "    <tr>\n",
              "      <th>1</th>\n",
              "      <td>6414100192</td>\n",
              "      <td>538000.0</td>\n",
              "      <td>3</td>\n",
              "      <td>2.25</td>\n",
              "      <td>2570</td>\n",
              "      <td>7242</td>\n",
              "      <td>2.0</td>\n",
              "      <td>0</td>\n",
              "      <td>0</td>\n",
              "      <td>3</td>\n",
              "      <td>7</td>\n",
              "      <td>2170</td>\n",
              "      <td>400</td>\n",
              "      <td>1951</td>\n",
              "      <td>1991</td>\n",
              "      <td>98125</td>\n",
              "      <td>47.7210</td>\n",
              "      <td>-122.319</td>\n",
              "      <td>1690</td>\n",
              "      <td>7639</td>\n",
              "    </tr>\n",
              "    <tr>\n",
              "      <th>2</th>\n",
              "      <td>5631500400</td>\n",
              "      <td>180000.0</td>\n",
              "      <td>2</td>\n",
              "      <td>1.00</td>\n",
              "      <td>770</td>\n",
              "      <td>10000</td>\n",
              "      <td>1.0</td>\n",
              "      <td>0</td>\n",
              "      <td>0</td>\n",
              "      <td>3</td>\n",
              "      <td>6</td>\n",
              "      <td>770</td>\n",
              "      <td>0</td>\n",
              "      <td>1933</td>\n",
              "      <td>0</td>\n",
              "      <td>98028</td>\n",
              "      <td>47.7379</td>\n",
              "      <td>-122.233</td>\n",
              "      <td>2720</td>\n",
              "      <td>8062</td>\n",
              "    </tr>\n",
              "    <tr>\n",
              "      <th>3</th>\n",
              "      <td>2487200875</td>\n",
              "      <td>604000.0</td>\n",
              "      <td>4</td>\n",
              "      <td>3.00</td>\n",
              "      <td>1960</td>\n",
              "      <td>5000</td>\n",
              "      <td>1.0</td>\n",
              "      <td>0</td>\n",
              "      <td>0</td>\n",
              "      <td>5</td>\n",
              "      <td>7</td>\n",
              "      <td>1050</td>\n",
              "      <td>910</td>\n",
              "      <td>1965</td>\n",
              "      <td>0</td>\n",
              "      <td>98136</td>\n",
              "      <td>47.5208</td>\n",
              "      <td>-122.393</td>\n",
              "      <td>1360</td>\n",
              "      <td>5000</td>\n",
              "    </tr>\n",
              "    <tr>\n",
              "      <th>4</th>\n",
              "      <td>1954400510</td>\n",
              "      <td>510000.0</td>\n",
              "      <td>3</td>\n",
              "      <td>2.00</td>\n",
              "      <td>1680</td>\n",
              "      <td>8080</td>\n",
              "      <td>1.0</td>\n",
              "      <td>0</td>\n",
              "      <td>0</td>\n",
              "      <td>3</td>\n",
              "      <td>8</td>\n",
              "      <td>1680</td>\n",
              "      <td>0</td>\n",
              "      <td>1987</td>\n",
              "      <td>0</td>\n",
              "      <td>98074</td>\n",
              "      <td>47.6168</td>\n",
              "      <td>-122.045</td>\n",
              "      <td>1800</td>\n",
              "      <td>7503</td>\n",
              "    </tr>\n",
              "  </tbody>\n",
              "</table>\n",
              "</div>"
            ],
            "text/plain": [
              "           id     price  bedrooms  ...     long  sqft_living15  sqft_lot15\n",
              "0  7129300520  221900.0         3  ... -122.257           1340        5650\n",
              "1  6414100192  538000.0         3  ... -122.319           1690        7639\n",
              "2  5631500400  180000.0         2  ... -122.233           2720        8062\n",
              "3  2487200875  604000.0         4  ... -122.393           1360        5000\n",
              "4  1954400510  510000.0         3  ... -122.045           1800        7503\n",
              "\n",
              "[5 rows x 20 columns]"
            ]
          },
          "metadata": {
            "tags": []
          },
          "execution_count": 3
        }
      ]
    },
    {
      "cell_type": "code",
      "metadata": {
        "colab": {
          "base_uri": "https://localhost:8080/",
          "height": 211
        },
        "id": "POaIBNAF0x1h",
        "outputId": "247c8842-ed52-4602-8a48-c23a94e4dfb2"
      },
      "source": [
        "df_house.tail(5)"
      ],
      "execution_count": null,
      "outputs": [
        {
          "output_type": "execute_result",
          "data": {
            "text/html": [
              "<div>\n",
              "<style scoped>\n",
              "    .dataframe tbody tr th:only-of-type {\n",
              "        vertical-align: middle;\n",
              "    }\n",
              "\n",
              "    .dataframe tbody tr th {\n",
              "        vertical-align: top;\n",
              "    }\n",
              "\n",
              "    .dataframe thead th {\n",
              "        text-align: right;\n",
              "    }\n",
              "</style>\n",
              "<table border=\"1\" class=\"dataframe\">\n",
              "  <thead>\n",
              "    <tr style=\"text-align: right;\">\n",
              "      <th></th>\n",
              "      <th>id</th>\n",
              "      <th>price</th>\n",
              "      <th>bedrooms</th>\n",
              "      <th>bathrooms</th>\n",
              "      <th>sqft_living</th>\n",
              "      <th>sqft_lot</th>\n",
              "      <th>floors</th>\n",
              "      <th>waterfront</th>\n",
              "      <th>view</th>\n",
              "      <th>condition</th>\n",
              "      <th>grade</th>\n",
              "      <th>sqft_above</th>\n",
              "      <th>sqft_basement</th>\n",
              "      <th>yr_built</th>\n",
              "      <th>yr_renovated</th>\n",
              "      <th>zipcode</th>\n",
              "      <th>lat</th>\n",
              "      <th>long</th>\n",
              "      <th>sqft_living15</th>\n",
              "      <th>sqft_lot15</th>\n",
              "    </tr>\n",
              "  </thead>\n",
              "  <tbody>\n",
              "    <tr>\n",
              "      <th>21608</th>\n",
              "      <td>263000018</td>\n",
              "      <td>360000.0</td>\n",
              "      <td>3</td>\n",
              "      <td>2.50</td>\n",
              "      <td>1530</td>\n",
              "      <td>1131</td>\n",
              "      <td>3.0</td>\n",
              "      <td>0</td>\n",
              "      <td>0</td>\n",
              "      <td>3</td>\n",
              "      <td>8</td>\n",
              "      <td>1530</td>\n",
              "      <td>0</td>\n",
              "      <td>2009</td>\n",
              "      <td>0</td>\n",
              "      <td>98103</td>\n",
              "      <td>47.6993</td>\n",
              "      <td>-122.346</td>\n",
              "      <td>1530</td>\n",
              "      <td>1509</td>\n",
              "    </tr>\n",
              "    <tr>\n",
              "      <th>21609</th>\n",
              "      <td>6600060120</td>\n",
              "      <td>400000.0</td>\n",
              "      <td>4</td>\n",
              "      <td>2.50</td>\n",
              "      <td>2310</td>\n",
              "      <td>5813</td>\n",
              "      <td>2.0</td>\n",
              "      <td>0</td>\n",
              "      <td>0</td>\n",
              "      <td>3</td>\n",
              "      <td>8</td>\n",
              "      <td>2310</td>\n",
              "      <td>0</td>\n",
              "      <td>2014</td>\n",
              "      <td>0</td>\n",
              "      <td>98146</td>\n",
              "      <td>47.5107</td>\n",
              "      <td>-122.362</td>\n",
              "      <td>1830</td>\n",
              "      <td>7200</td>\n",
              "    </tr>\n",
              "    <tr>\n",
              "      <th>21610</th>\n",
              "      <td>1523300141</td>\n",
              "      <td>402101.0</td>\n",
              "      <td>2</td>\n",
              "      <td>0.75</td>\n",
              "      <td>1020</td>\n",
              "      <td>1350</td>\n",
              "      <td>2.0</td>\n",
              "      <td>0</td>\n",
              "      <td>0</td>\n",
              "      <td>3</td>\n",
              "      <td>7</td>\n",
              "      <td>1020</td>\n",
              "      <td>0</td>\n",
              "      <td>2009</td>\n",
              "      <td>0</td>\n",
              "      <td>98144</td>\n",
              "      <td>47.5944</td>\n",
              "      <td>-122.299</td>\n",
              "      <td>1020</td>\n",
              "      <td>2007</td>\n",
              "    </tr>\n",
              "    <tr>\n",
              "      <th>21611</th>\n",
              "      <td>291310100</td>\n",
              "      <td>400000.0</td>\n",
              "      <td>3</td>\n",
              "      <td>2.50</td>\n",
              "      <td>1600</td>\n",
              "      <td>2388</td>\n",
              "      <td>2.0</td>\n",
              "      <td>0</td>\n",
              "      <td>0</td>\n",
              "      <td>3</td>\n",
              "      <td>8</td>\n",
              "      <td>1600</td>\n",
              "      <td>0</td>\n",
              "      <td>2004</td>\n",
              "      <td>0</td>\n",
              "      <td>98027</td>\n",
              "      <td>47.5345</td>\n",
              "      <td>-122.069</td>\n",
              "      <td>1410</td>\n",
              "      <td>1287</td>\n",
              "    </tr>\n",
              "    <tr>\n",
              "      <th>21612</th>\n",
              "      <td>1523300157</td>\n",
              "      <td>325000.0</td>\n",
              "      <td>2</td>\n",
              "      <td>0.75</td>\n",
              "      <td>1020</td>\n",
              "      <td>1076</td>\n",
              "      <td>2.0</td>\n",
              "      <td>0</td>\n",
              "      <td>0</td>\n",
              "      <td>3</td>\n",
              "      <td>7</td>\n",
              "      <td>1020</td>\n",
              "      <td>0</td>\n",
              "      <td>2008</td>\n",
              "      <td>0</td>\n",
              "      <td>98144</td>\n",
              "      <td>47.5941</td>\n",
              "      <td>-122.299</td>\n",
              "      <td>1020</td>\n",
              "      <td>1357</td>\n",
              "    </tr>\n",
              "  </tbody>\n",
              "</table>\n",
              "</div>"
            ],
            "text/plain": [
              "               id     price  bedrooms  ...     long  sqft_living15  sqft_lot15\n",
              "21608   263000018  360000.0         3  ... -122.346           1530        1509\n",
              "21609  6600060120  400000.0         4  ... -122.362           1830        7200\n",
              "21610  1523300141  402101.0         2  ... -122.299           1020        2007\n",
              "21611   291310100  400000.0         3  ... -122.069           1410        1287\n",
              "21612  1523300157  325000.0         2  ... -122.299           1020        1357\n",
              "\n",
              "[5 rows x 20 columns]"
            ]
          },
          "metadata": {
            "tags": []
          },
          "execution_count": 6
        }
      ]
    },
    {
      "cell_type": "code",
      "metadata": {
        "colab": {
          "base_uri": "https://localhost:8080/"
        },
        "id": "i1Tc-Eti071l",
        "outputId": "e0f777a0-a8ab-4d90-d6cd-00312e737f69"
      },
      "source": [
        "print(df_house.columns)"
      ],
      "execution_count": null,
      "outputs": [
        {
          "output_type": "stream",
          "text": [
            "Index(['id', 'price', 'bedrooms', 'bathrooms', 'sqft_living', 'sqft_lot',\n",
            "       'floors', 'waterfront', 'view', 'condition', 'grade', 'sqft_above',\n",
            "       'sqft_basement', 'yr_built', 'yr_renovated', 'zipcode', 'lat', 'long',\n",
            "       'sqft_living15', 'sqft_lot15'],\n",
            "      dtype='object')\n"
          ],
          "name": "stdout"
        }
      ]
    },
    {
      "cell_type": "code",
      "metadata": {
        "colab": {
          "base_uri": "https://localhost:8080/"
        },
        "id": "FFXfoNRy1DzG",
        "outputId": "0b6d4c8c-f078-4436-a84d-5bbacef69959"
      },
      "source": [
        "print(df_house.shape)"
      ],
      "execution_count": null,
      "outputs": [
        {
          "output_type": "stream",
          "text": [
            "(21613, 20)\n"
          ],
          "name": "stdout"
        }
      ]
    },
    {
      "cell_type": "code",
      "metadata": {
        "colab": {
          "base_uri": "https://localhost:8080/"
        },
        "id": "mw4X13DA1Wyx",
        "outputId": "508fcb0f-1435-4254-999d-36af860bfb41"
      },
      "source": [
        "print(df_house.isna().any())"
      ],
      "execution_count": null,
      "outputs": [
        {
          "output_type": "stream",
          "text": [
            "id               False\n",
            "price            False\n",
            "bedrooms         False\n",
            "bathrooms        False\n",
            "sqft_living      False\n",
            "sqft_lot         False\n",
            "floors           False\n",
            "waterfront       False\n",
            "view             False\n",
            "condition        False\n",
            "grade            False\n",
            "sqft_above       False\n",
            "sqft_basement    False\n",
            "yr_built         False\n",
            "yr_renovated     False\n",
            "zipcode          False\n",
            "lat              False\n",
            "long             False\n",
            "sqft_living15    False\n",
            "sqft_lot15       False\n",
            "dtype: bool\n"
          ],
          "name": "stdout"
        }
      ]
    },
    {
      "cell_type": "code",
      "metadata": {
        "colab": {
          "base_uri": "https://localhost:8080/"
        },
        "id": "O5hVDFkq1pbe",
        "outputId": "7db51db8-5dd9-4082-98f0-d44816863c75"
      },
      "source": [
        "print(df_house.duplicated().sum())"
      ],
      "execution_count": null,
      "outputs": [
        {
          "output_type": "stream",
          "text": [
            "3\n"
          ],
          "name": "stdout"
        }
      ]
    },
    {
      "cell_type": "code",
      "metadata": {
        "colab": {
          "base_uri": "https://localhost:8080/"
        },
        "id": "lhHuQivL3E8o",
        "outputId": "3a25350c-7a10-441f-eeeb-75e0a3cac4b8"
      },
      "source": [
        "df_house.info()"
      ],
      "execution_count": null,
      "outputs": [
        {
          "output_type": "stream",
          "text": [
            "<class 'pandas.core.frame.DataFrame'>\n",
            "RangeIndex: 21613 entries, 0 to 21612\n",
            "Data columns (total 20 columns):\n",
            " #   Column         Non-Null Count  Dtype  \n",
            "---  ------         --------------  -----  \n",
            " 0   id             21613 non-null  int64  \n",
            " 1   price          21613 non-null  float64\n",
            " 2   bedrooms       21613 non-null  int64  \n",
            " 3   bathrooms      21613 non-null  float64\n",
            " 4   sqft_living    21613 non-null  int64  \n",
            " 5   sqft_lot       21613 non-null  int64  \n",
            " 6   floors         21613 non-null  float64\n",
            " 7   waterfront     21613 non-null  int64  \n",
            " 8   view           21613 non-null  int64  \n",
            " 9   condition      21613 non-null  int64  \n",
            " 10  grade          21613 non-null  int64  \n",
            " 11  sqft_above     21613 non-null  int64  \n",
            " 12  sqft_basement  21613 non-null  int64  \n",
            " 13  yr_built       21613 non-null  int64  \n",
            " 14  yr_renovated   21613 non-null  int64  \n",
            " 15  zipcode        21613 non-null  int64  \n",
            " 16  lat            21613 non-null  float64\n",
            " 17  long           21613 non-null  float64\n",
            " 18  sqft_living15  21613 non-null  int64  \n",
            " 19  sqft_lot15     21613 non-null  int64  \n",
            "dtypes: float64(5), int64(15)\n",
            "memory usage: 3.3 MB\n"
          ],
          "name": "stdout"
        }
      ]
    },
    {
      "cell_type": "code",
      "metadata": {
        "colab": {
          "base_uri": "https://localhost:8080/"
        },
        "id": "fJT-_z2O5exJ",
        "outputId": "ede4f3be-42da-4668-f80f-4599954e8942"
      },
      "source": [
        "print(df_house['bedrooms'].unique().tolist())\n",
        "print(df_house['bathrooms'].unique().tolist())\n",
        "print(df_house['floors'].unique().tolist())\n",
        "\n"
      ],
      "execution_count": null,
      "outputs": [
        {
          "output_type": "stream",
          "text": [
            "[3, 2, 4, 5, 1, 6, 7, 0, 8, 9, 11, 10, 33]\n",
            "[1.0, 2.25, 3.0, 2.0, 4.5, 1.5, 2.5, 1.75, 2.75, 3.25, 4.0, 3.5, 0.75, 4.75, 5.0, 4.25, 3.75, 0.0, 1.25, 5.25, 6.0, 0.5, 5.5, 6.75, 5.75, 8.0, 7.5, 7.75, 6.25, 6.5]\n",
            "[1.0, 2.0, 1.5, 3.0, 2.5, 3.5]\n"
          ],
          "name": "stdout"
        }
      ]
    },
    {
      "cell_type": "code",
      "metadata": {
        "colab": {
          "base_uri": "https://localhost:8080/"
        },
        "id": "5kEQGhrwNKHT",
        "outputId": "26fda41c-db25-4678-c4ce-8de60ada6349"
      },
      "source": [
        "column_values1 = df_house[[\"long\",\"lat\"]].values.ravel()\n",
        "print(column_values1)"
      ],
      "execution_count": null,
      "outputs": [
        {
          "output_type": "stream",
          "text": [
            "[-122.257    47.5112 -122.319  ...   47.5345 -122.299    47.5941]\n"
          ],
          "name": "stdout"
        }
      ]
    },
    {
      "cell_type": "markdown",
      "metadata": {
        "id": "cFufxv_p2vf1"
      },
      "source": [
        "### cleaning data"
      ]
    },
    {
      "cell_type": "code",
      "metadata": {
        "colab": {
          "base_uri": "https://localhost:8080/"
        },
        "id": "fa8n9j0I245s",
        "outputId": "c8bbb0ad-0cff-4db5-9577-c67cc278ebaf"
      },
      "source": [
        "df_house.drop_duplicates(keep = False, inplace = True)\n",
        "print(df_house.duplicated().any())"
      ],
      "execution_count": 3,
      "outputs": [
        {
          "output_type": "stream",
          "text": [
            "False\n"
          ],
          "name": "stdout"
        }
      ]
    },
    {
      "cell_type": "code",
      "metadata": {
        "colab": {
          "base_uri": "https://localhost:8080/",
          "height": 297
        },
        "id": "_9u6BYpi4r8K",
        "outputId": "14e4710c-6f33-467a-a91a-e6d615dbab96"
      },
      "source": [
        "df_house.describe()"
      ],
      "execution_count": null,
      "outputs": [
        {
          "output_type": "execute_result",
          "data": {
            "text/html": [
              "<div>\n",
              "<style scoped>\n",
              "    .dataframe tbody tr th:only-of-type {\n",
              "        vertical-align: middle;\n",
              "    }\n",
              "\n",
              "    .dataframe tbody tr th {\n",
              "        vertical-align: top;\n",
              "    }\n",
              "\n",
              "    .dataframe thead th {\n",
              "        text-align: right;\n",
              "    }\n",
              "</style>\n",
              "<table border=\"1\" class=\"dataframe\">\n",
              "  <thead>\n",
              "    <tr style=\"text-align: right;\">\n",
              "      <th></th>\n",
              "      <th>id</th>\n",
              "      <th>price</th>\n",
              "      <th>bedrooms</th>\n",
              "      <th>bathrooms</th>\n",
              "      <th>sqft_living</th>\n",
              "      <th>sqft_lot</th>\n",
              "      <th>floors</th>\n",
              "      <th>waterfront</th>\n",
              "      <th>view</th>\n",
              "      <th>condition</th>\n",
              "      <th>grade</th>\n",
              "      <th>sqft_above</th>\n",
              "      <th>sqft_basement</th>\n",
              "      <th>yr_built</th>\n",
              "      <th>yr_renovated</th>\n",
              "      <th>zipcode</th>\n",
              "      <th>lat</th>\n",
              "      <th>long</th>\n",
              "      <th>sqft_living15</th>\n",
              "      <th>sqft_lot15</th>\n",
              "    </tr>\n",
              "  </thead>\n",
              "  <tbody>\n",
              "    <tr>\n",
              "      <th>count</th>\n",
              "      <td>2.160700e+04</td>\n",
              "      <td>2.160700e+04</td>\n",
              "      <td>21607.000000</td>\n",
              "      <td>21607.000000</td>\n",
              "      <td>21607.000000</td>\n",
              "      <td>2.160700e+04</td>\n",
              "      <td>21607.000000</td>\n",
              "      <td>21607.000000</td>\n",
              "      <td>21607.000000</td>\n",
              "      <td>21607.000000</td>\n",
              "      <td>21607.000000</td>\n",
              "      <td>21607.000000</td>\n",
              "      <td>21607.000000</td>\n",
              "      <td>21607.000000</td>\n",
              "      <td>21607.000000</td>\n",
              "      <td>21607.000000</td>\n",
              "      <td>21607.000000</td>\n",
              "      <td>21607.000000</td>\n",
              "      <td>21607.000000</td>\n",
              "      <td>21607.000000</td>\n",
              "    </tr>\n",
              "    <tr>\n",
              "      <th>mean</th>\n",
              "      <td>4.580020e+09</td>\n",
              "      <td>5.401757e+05</td>\n",
              "      <td>3.370852</td>\n",
              "      <td>2.114720</td>\n",
              "      <td>2079.862683</td>\n",
              "      <td>1.510961e+04</td>\n",
              "      <td>1.494169</td>\n",
              "      <td>0.007544</td>\n",
              "      <td>0.234091</td>\n",
              "      <td>3.409451</td>\n",
              "      <td>7.656685</td>\n",
              "      <td>1788.305086</td>\n",
              "      <td>291.557597</td>\n",
              "      <td>1971.002083</td>\n",
              "      <td>84.242421</td>\n",
              "      <td>98077.951543</td>\n",
              "      <td>47.560045</td>\n",
              "      <td>-122.213923</td>\n",
              "      <td>1986.484889</td>\n",
              "      <td>12769.608460</td>\n",
              "    </tr>\n",
              "    <tr>\n",
              "      <th>std</th>\n",
              "      <td>2.876528e+09</td>\n",
              "      <td>3.674129e+05</td>\n",
              "      <td>0.930158</td>\n",
              "      <td>0.770244</td>\n",
              "      <td>918.559712</td>\n",
              "      <td>4.142594e+04</td>\n",
              "      <td>0.539998</td>\n",
              "      <td>0.086529</td>\n",
              "      <td>0.765955</td>\n",
              "      <td>0.650785</td>\n",
              "      <td>1.175542</td>\n",
              "      <td>828.186477</td>\n",
              "      <td>442.618358</td>\n",
              "      <td>29.371866</td>\n",
              "      <td>401.319142</td>\n",
              "      <td>53.505719</td>\n",
              "      <td>0.138580</td>\n",
              "      <td>0.140837</td>\n",
              "      <td>685.460263</td>\n",
              "      <td>27307.765664</td>\n",
              "    </tr>\n",
              "    <tr>\n",
              "      <th>min</th>\n",
              "      <td>1.000102e+06</td>\n",
              "      <td>7.500000e+04</td>\n",
              "      <td>0.000000</td>\n",
              "      <td>0.000000</td>\n",
              "      <td>290.000000</td>\n",
              "      <td>5.200000e+02</td>\n",
              "      <td>1.000000</td>\n",
              "      <td>0.000000</td>\n",
              "      <td>0.000000</td>\n",
              "      <td>1.000000</td>\n",
              "      <td>1.000000</td>\n",
              "      <td>290.000000</td>\n",
              "      <td>0.000000</td>\n",
              "      <td>1900.000000</td>\n",
              "      <td>0.000000</td>\n",
              "      <td>98001.000000</td>\n",
              "      <td>47.155900</td>\n",
              "      <td>-122.519000</td>\n",
              "      <td>399.000000</td>\n",
              "      <td>651.000000</td>\n",
              "    </tr>\n",
              "    <tr>\n",
              "      <th>25%</th>\n",
              "      <td>2.123049e+09</td>\n",
              "      <td>3.215000e+05</td>\n",
              "      <td>3.000000</td>\n",
              "      <td>1.750000</td>\n",
              "      <td>1423.500000</td>\n",
              "      <td>5.040000e+03</td>\n",
              "      <td>1.000000</td>\n",
              "      <td>0.000000</td>\n",
              "      <td>0.000000</td>\n",
              "      <td>3.000000</td>\n",
              "      <td>7.000000</td>\n",
              "      <td>1190.000000</td>\n",
              "      <td>0.000000</td>\n",
              "      <td>1951.000000</td>\n",
              "      <td>0.000000</td>\n",
              "      <td>98033.000000</td>\n",
              "      <td>47.470850</td>\n",
              "      <td>-122.328000</td>\n",
              "      <td>1490.000000</td>\n",
              "      <td>5100.000000</td>\n",
              "    </tr>\n",
              "    <tr>\n",
              "      <th>50%</th>\n",
              "      <td>3.904930e+09</td>\n",
              "      <td>4.500000e+05</td>\n",
              "      <td>3.000000</td>\n",
              "      <td>2.250000</td>\n",
              "      <td>1910.000000</td>\n",
              "      <td>7.620000e+03</td>\n",
              "      <td>1.500000</td>\n",
              "      <td>0.000000</td>\n",
              "      <td>0.000000</td>\n",
              "      <td>3.000000</td>\n",
              "      <td>7.000000</td>\n",
              "      <td>1560.000000</td>\n",
              "      <td>0.000000</td>\n",
              "      <td>1975.000000</td>\n",
              "      <td>0.000000</td>\n",
              "      <td>98065.000000</td>\n",
              "      <td>47.571800</td>\n",
              "      <td>-122.231000</td>\n",
              "      <td>1840.000000</td>\n",
              "      <td>7620.000000</td>\n",
              "    </tr>\n",
              "    <tr>\n",
              "      <th>75%</th>\n",
              "      <td>7.308900e+09</td>\n",
              "      <td>6.450000e+05</td>\n",
              "      <td>4.000000</td>\n",
              "      <td>2.500000</td>\n",
              "      <td>2550.000000</td>\n",
              "      <td>1.069200e+04</td>\n",
              "      <td>2.000000</td>\n",
              "      <td>0.000000</td>\n",
              "      <td>0.000000</td>\n",
              "      <td>4.000000</td>\n",
              "      <td>8.000000</td>\n",
              "      <td>2210.000000</td>\n",
              "      <td>560.000000</td>\n",
              "      <td>1997.000000</td>\n",
              "      <td>0.000000</td>\n",
              "      <td>98118.000000</td>\n",
              "      <td>47.678000</td>\n",
              "      <td>-122.125000</td>\n",
              "      <td>2360.000000</td>\n",
              "      <td>10083.000000</td>\n",
              "    </tr>\n",
              "    <tr>\n",
              "      <th>max</th>\n",
              "      <td>9.900000e+09</td>\n",
              "      <td>7.700000e+06</td>\n",
              "      <td>33.000000</td>\n",
              "      <td>8.000000</td>\n",
              "      <td>13540.000000</td>\n",
              "      <td>1.651359e+06</td>\n",
              "      <td>3.500000</td>\n",
              "      <td>1.000000</td>\n",
              "      <td>4.000000</td>\n",
              "      <td>5.000000</td>\n",
              "      <td>13.000000</td>\n",
              "      <td>9410.000000</td>\n",
              "      <td>4820.000000</td>\n",
              "      <td>2015.000000</td>\n",
              "      <td>2015.000000</td>\n",
              "      <td>98199.000000</td>\n",
              "      <td>47.777600</td>\n",
              "      <td>-121.315000</td>\n",
              "      <td>6210.000000</td>\n",
              "      <td>871200.000000</td>\n",
              "    </tr>\n",
              "  </tbody>\n",
              "</table>\n",
              "</div>"
            ],
            "text/plain": [
              "                 id         price  ...  sqft_living15     sqft_lot15\n",
              "count  2.160700e+04  2.160700e+04  ...   21607.000000   21607.000000\n",
              "mean   4.580020e+09  5.401757e+05  ...    1986.484889   12769.608460\n",
              "std    2.876528e+09  3.674129e+05  ...     685.460263   27307.765664\n",
              "min    1.000102e+06  7.500000e+04  ...     399.000000     651.000000\n",
              "25%    2.123049e+09  3.215000e+05  ...    1490.000000    5100.000000\n",
              "50%    3.904930e+09  4.500000e+05  ...    1840.000000    7620.000000\n",
              "75%    7.308900e+09  6.450000e+05  ...    2360.000000   10083.000000\n",
              "max    9.900000e+09  7.700000e+06  ...    6210.000000  871200.000000\n",
              "\n",
              "[8 rows x 20 columns]"
            ]
          },
          "metadata": {
            "tags": []
          },
          "execution_count": 15
        }
      ]
    },
    {
      "cell_type": "code",
      "metadata": {
        "colab": {
          "base_uri": "https://localhost:8080/"
        },
        "id": "49ZuYXzo_RVK",
        "outputId": "e48fd2ef-f810-47c2-a990-b6fee6d35f82"
      },
      "source": [
        "df_house.drop(['id'], axis=1)\n",
        "col = list(df_house.columns)\n",
        "for i in col:\n",
        "  max_thresold_h_s = df_house[i].quantile(0.95)\n",
        "  min_thresold_h_s = df_house[i].quantile(0.05)\n",
        "  df_house2 = df_house[(df_house[i]<max_thresold_h_s) & (df_house[i]>min_thresold_h_s)]\n",
        "  num = df_house.shape[0]-df_house2.shape[0]\n",
        "  print(f'{num} outliers valuecount in column {i}')\n",
        "  print(' ')"
      ],
      "execution_count": 4,
      "outputs": [
        {
          "output_type": "stream",
          "text": [
            "2162 outliers valuecount in column id\n",
            " \n",
            "2175 outliers valuecount in column price\n",
            " \n",
            "4907 outliers valuecount in column bedrooms\n",
            " \n",
            "5226 outliers valuecount in column bathrooms\n",
            " \n",
            "2231 outliers valuecount in column sqft_living\n",
            " \n",
            "2163 outliers valuecount in column sqft_lot\n",
            " \n",
            "19697 outliers valuecount in column floors\n",
            " \n",
            "21607 outliers valuecount in column waterfront\n",
            " \n",
            "21275 outliers valuecount in column view\n",
            " \n",
            "15930 outliers valuecount in column condition\n",
            " \n",
            "3949 outliers valuecount in column grade\n",
            " \n",
            "2202 outliers valuecount in column sqft_above\n",
            " \n",
            "14215 outliers valuecount in column sqft_basement\n",
            " \n",
            "2206 outliers valuecount in column yr_built\n",
            " \n",
            "21607 outliers valuecount in column yr_renovated\n",
            " \n",
            "2408 outliers valuecount in column zipcode\n",
            " \n",
            "2164 outliers valuecount in column lat\n",
            " \n",
            "2220 outliers valuecount in column long\n",
            " \n",
            "2201 outliers valuecount in column sqft_living15\n",
            " \n",
            "2162 outliers valuecount in column sqft_lot15\n",
            " \n"
          ],
          "name": "stdout"
        }
      ]
    },
    {
      "cell_type": "code",
      "metadata": {
        "colab": {
          "base_uri": "https://localhost:8080/"
        },
        "id": "YWx-wyBjaFEE",
        "outputId": "a4156f86-7131-4f5d-e10b-423106755ed2"
      },
      "source": [
        "df_house.columns"
      ],
      "execution_count": null,
      "outputs": [
        {
          "output_type": "execute_result",
          "data": {
            "text/plain": [
              "Index(['id', 'price', 'bedrooms', 'bathrooms', 'sqft_living', 'sqft_lot',\n",
              "       'floors', 'waterfront', 'view', 'condition', 'grade', 'sqft_above',\n",
              "       'sqft_basement', 'yr_built', 'yr_renovated', 'zipcode', 'lat', 'long',\n",
              "       'sqft_living15', 'sqft_lot15'],\n",
              "      dtype='object')"
            ]
          },
          "metadata": {
            "tags": []
          },
          "execution_count": 111
        }
      ]
    },
    {
      "cell_type": "code",
      "metadata": {
        "colab": {
          "base_uri": "https://localhost:8080/",
          "height": 1000
        },
        "id": "0azPAcUiBYy7",
        "outputId": "6b9eea8a-362c-41e8-9717-67109a0cfbe5"
      },
      "source": [
        "#drop the columns with 90% and above of outliers\n",
        "df_house2=df_house.drop(['id','view','waterfront','floors','yr_renovated'],axis=1)\n",
        "names = list(df_house2.columns)\n",
        "\n",
        "fig, axes = plt.subplots(8,2, figsize=(20,20))  \n",
        "\n",
        "y = 0\n",
        "for name in names:\n",
        "  i, j = divmod(y, 2)\n",
        "  sns.boxplot(x=df_house2[name], ax=axes[i, j])\n",
        "  axes[i, j].set_title(f'Box plot of {name}', fontsize=20)\n",
        "  y+=1\n",
        "\n",
        "plt.tight_layout()\n",
        "plt.show()\n"
      ],
      "execution_count": 5,
      "outputs": [
        {
          "output_type": "display_data",
          "data": {
            "image/png": "[encoded data removed]",
            "text/plain": [
              "<Figure size 1440x1440 with 16 Axes>"
            ]
          },
          "metadata": {
            "tags": [],
            "needs_background": "light"
          }
        }
      ]
    },
    {
      "cell_type": "markdown",
      "metadata": {
        "id": "LyqCBSQtFaoR"
      },
      "source": [
        "### Univariate analysis"
      ]
    },
    {
      "cell_type": "code",
      "metadata": {
        "colab": {
          "base_uri": "https://localhost:8080/"
        },
        "id": "PVyNuvMPx5S-",
        "outputId": "fd1bfe1f-731e-4e83-bab9-2dd21aba86b0"
      },
      "source": [
        "df_house2['price'].describe()"
      ],
      "execution_count": null,
      "outputs": [
        {
          "output_type": "execute_result",
          "data": {
            "text/plain": [
              "count    2.161300e+04\n",
              "mean     5.401822e+05\n",
              "std      3.673622e+05\n",
              "min      7.500000e+04\n",
              "25%      3.219500e+05\n",
              "50%      4.500000e+05\n",
              "75%      6.450000e+05\n",
              "max      7.700000e+06\n",
              "Name: price, dtype: float64"
            ]
          },
          "metadata": {
            "tags": []
          },
          "execution_count": 114
        }
      ]
    },
    {
      "cell_type": "code",
      "metadata": {
        "colab": {
          "base_uri": "https://localhost:8080/",
          "height": 331
        },
        "id": "5slJjAteyP41",
        "outputId": "f003a594-7f3f-42d3-8b69-81c8d360e37a"
      },
      "source": [
        "#histogram\n",
        "sns.distplot(df_house2['price'], bins=50, kde=False);\n"
      ],
      "execution_count": null,
      "outputs": [
        {
          "output_type": "stream",
          "text": [
            "/usr/local/lib/python3.6/dist-packages/seaborn/distributions.py:2551: FutureWarning: `distplot` is a deprecated function and will be removed in a future version. Please adapt your code to use either `displot` (a figure-level function with similar flexibility) or `histplot` (an axes-level function for histograms).\n",
            "  warnings.warn(msg, FutureWarning)\n"
          ],
          "name": "stderr"
        },
        {
          "output_type": "display_data",
          "data": {
            "image/png": "[encoded data removed]",
            "text/plain": [
              "<Figure size 432x288 with 1 Axes>"
            ]
          },
          "metadata": {
            "tags": [],
            "needs_background": "light"
          }
        }
      ]
    },
    {
      "cell_type": "markdown",
      "metadata": {
        "id": "5HG25Mz1yXLC"
      },
      "source": [
        ">> Given from the histogram: The price of the houses has appreciable positive skewness, deviates from the normal distribution and shows peakedness. Let's take a look at the skewness and kurtosis in numbers:"
      ]
    },
    {
      "cell_type": "code",
      "metadata": {
        "colab": {
          "base_uri": "https://localhost:8080/"
        },
        "id": "Ucj_sb30yP12",
        "outputId": "dfc99379-27f9-4dc0-e2af-268339ca9896"
      },
      "source": [
        "print(\"Skewness: %f\" % df_house['price'].skew())\n",
        "print(\"Kurtosis: %f\" % df_house['price'].kurt())"
      ],
      "execution_count": null,
      "outputs": [
        {
          "output_type": "stream",
          "text": [
            "Skewness: 4.021716\n",
            "Kurtosis: 34.522444\n"
          ],
          "name": "stdout"
        }
      ]
    },
    {
      "cell_type": "markdown",
      "metadata": {
        "id": "urSp60o0y1Zj"
      },
      "source": [
        ">> This is quite significant. At the data standardisation section, we will fix this."
      ]
    },
    {
      "cell_type": "markdown",
      "metadata": {
        "id": "wONjLY58pcLg"
      },
      "source": [
        "### Bivariate Analysis"
      ]
    },
    {
      "cell_type": "markdown",
      "metadata": {
        "id": "sCZASjiJtGCl"
      },
      "source": [
        ">> Before we proceed with our Linear Regression implementation, we need to check whether the values are correlated, meaning the variables that we consider to be independent have an influence over the dependent variable.\n",
        "\n",
        "For this we can use the Pearson coefficient to measure the correlation between any 2 variables. The Pearson coefficient is a value between [-1, 1] which indicates the strength and the direction of the correlation between 2 variables.\n",
        "\n",
        "The closer the Pearson coefficient is to the margins of the interval (-1 or 1), the stronger the correlation is.\n",
        "A value closer to 0 indicates a lower correlation.\n",
        "A negative value indicates a negative correlation between the independent and the dependent variables. An increase in the independent variable will cause a decrease in the dependent variable.\n",
        "A positive value indicates a positive correlation between the independent and the dependent variable. An increase in the independent variable will cause the dependent variable to also increase.\n",
        "We can use pandas to display the correlations between each and every variable."
      ]
    },
    {
      "cell_type": "code",
      "metadata": {
        "colab": {
          "base_uri": "https://localhost:8080/",
          "height": 478
        },
        "id": "IEK2ZAl0tXHQ",
        "outputId": "8de9fa42-ecef-46c0-a274-fc12efa7fc8a"
      },
      "source": [
        "# Correlations\n",
        "correlations = df_house2.corr(method='pearson')\n",
        "(correlations)"
      ],
      "execution_count": 21,
      "outputs": [
        {
          "output_type": "execute_result",
          "data": {
            "text/html": [
              "<div>\n",
              "<style scoped>\n",
              "    .dataframe tbody tr th:only-of-type {\n",
              "        vertical-align: middle;\n",
              "    }\n",
              "\n",
              "    .dataframe tbody tr th {\n",
              "        vertical-align: top;\n",
              "    }\n",
              "\n",
              "    .dataframe thead th {\n",
              "        text-align: right;\n",
              "    }\n",
              "</style>\n",
              "<table border=\"1\" class=\"dataframe\">\n",
              "  <thead>\n",
              "    <tr style=\"text-align: right;\">\n",
              "      <th></th>\n",
              "      <th>price</th>\n",
              "      <th>bedrooms</th>\n",
              "      <th>bathrooms</th>\n",
              "      <th>sqft_living</th>\n",
              "      <th>sqft_lot</th>\n",
              "      <th>condition</th>\n",
              "      <th>grade</th>\n",
              "      <th>sqft_above</th>\n",
              "      <th>sqft_basement</th>\n",
              "      <th>yr_built</th>\n",
              "      <th>zipcode</th>\n",
              "      <th>lat</th>\n",
              "      <th>long</th>\n",
              "      <th>sqft_living15</th>\n",
              "      <th>sqft_lot15</th>\n",
              "    </tr>\n",
              "  </thead>\n",
              "  <tbody>\n",
              "    <tr>\n",
              "      <th>price</th>\n",
              "      <td>1.000000</td>\n",
              "      <td>0.308354</td>\n",
              "      <td>0.525146</td>\n",
              "      <td>0.702048</td>\n",
              "      <td>0.089660</td>\n",
              "      <td>0.036402</td>\n",
              "      <td>0.667494</td>\n",
              "      <td>0.605572</td>\n",
              "      <td>0.323860</td>\n",
              "      <td>0.053979</td>\n",
              "      <td>-0.053156</td>\n",
              "      <td>0.306925</td>\n",
              "      <td>0.021564</td>\n",
              "      <td>0.585391</td>\n",
              "      <td>0.082459</td>\n",
              "    </tr>\n",
              "    <tr>\n",
              "      <th>bedrooms</th>\n",
              "      <td>0.308354</td>\n",
              "      <td>1.000000</td>\n",
              "      <td>0.515986</td>\n",
              "      <td>0.576677</td>\n",
              "      <td>0.031695</td>\n",
              "      <td>0.028372</td>\n",
              "      <td>0.357039</td>\n",
              "      <td>0.477637</td>\n",
              "      <td>0.303060</td>\n",
              "      <td>0.154373</td>\n",
              "      <td>-0.152773</td>\n",
              "      <td>-0.008975</td>\n",
              "      <td>0.129474</td>\n",
              "      <td>0.391628</td>\n",
              "      <td>0.029221</td>\n",
              "    </tr>\n",
              "    <tr>\n",
              "      <th>bathrooms</th>\n",
              "      <td>0.525146</td>\n",
              "      <td>0.515986</td>\n",
              "      <td>1.000000</td>\n",
              "      <td>0.754710</td>\n",
              "      <td>0.087761</td>\n",
              "      <td>-0.124897</td>\n",
              "      <td>0.664997</td>\n",
              "      <td>0.685359</td>\n",
              "      <td>0.283858</td>\n",
              "      <td>0.505974</td>\n",
              "      <td>-0.203796</td>\n",
              "      <td>0.024606</td>\n",
              "      <td>0.223052</td>\n",
              "      <td>0.568696</td>\n",
              "      <td>0.087207</td>\n",
              "    </tr>\n",
              "    <tr>\n",
              "      <th>sqft_living</th>\n",
              "      <td>0.702048</td>\n",
              "      <td>0.576677</td>\n",
              "      <td>0.754710</td>\n",
              "      <td>1.000000</td>\n",
              "      <td>0.172835</td>\n",
              "      <td>-0.058783</td>\n",
              "      <td>0.762734</td>\n",
              "      <td>0.876604</td>\n",
              "      <td>0.435065</td>\n",
              "      <td>0.318149</td>\n",
              "      <td>-0.199440</td>\n",
              "      <td>0.052512</td>\n",
              "      <td>0.240220</td>\n",
              "      <td>0.756419</td>\n",
              "      <td>0.183285</td>\n",
              "    </tr>\n",
              "    <tr>\n",
              "      <th>sqft_lot</th>\n",
              "      <td>0.089660</td>\n",
              "      <td>0.031695</td>\n",
              "      <td>0.087761</td>\n",
              "      <td>0.172835</td>\n",
              "      <td>1.000000</td>\n",
              "      <td>-0.008976</td>\n",
              "      <td>0.113667</td>\n",
              "      <td>0.183541</td>\n",
              "      <td>0.015257</td>\n",
              "      <td>0.053130</td>\n",
              "      <td>-0.129648</td>\n",
              "      <td>-0.085677</td>\n",
              "      <td>0.229583</td>\n",
              "      <td>0.144632</td>\n",
              "      <td>0.718555</td>\n",
              "    </tr>\n",
              "    <tr>\n",
              "      <th>condition</th>\n",
              "      <td>0.036402</td>\n",
              "      <td>0.028372</td>\n",
              "      <td>-0.124897</td>\n",
              "      <td>-0.058783</td>\n",
              "      <td>-0.008976</td>\n",
              "      <td>1.000000</td>\n",
              "      <td>-0.144635</td>\n",
              "      <td>-0.158211</td>\n",
              "      <td>0.174037</td>\n",
              "      <td>-0.361278</td>\n",
              "      <td>0.002899</td>\n",
              "      <td>-0.015002</td>\n",
              "      <td>-0.106524</td>\n",
              "      <td>-0.092883</td>\n",
              "      <td>-0.003443</td>\n",
              "    </tr>\n",
              "    <tr>\n",
              "      <th>grade</th>\n",
              "      <td>0.667494</td>\n",
              "      <td>0.357039</td>\n",
              "      <td>0.664997</td>\n",
              "      <td>0.762734</td>\n",
              "      <td>0.113667</td>\n",
              "      <td>-0.144635</td>\n",
              "      <td>1.000000</td>\n",
              "      <td>0.755914</td>\n",
              "      <td>0.168494</td>\n",
              "      <td>0.446969</td>\n",
              "      <td>-0.184728</td>\n",
              "      <td>0.114088</td>\n",
              "      <td>0.198322</td>\n",
              "      <td>0.713214</td>\n",
              "      <td>0.119283</td>\n",
              "    </tr>\n",
              "    <tr>\n",
              "      <th>sqft_above</th>\n",
              "      <td>0.605572</td>\n",
              "      <td>0.477637</td>\n",
              "      <td>0.685359</td>\n",
              "      <td>0.876604</td>\n",
              "      <td>0.183541</td>\n",
              "      <td>-0.158211</td>\n",
              "      <td>0.755914</td>\n",
              "      <td>1.000000</td>\n",
              "      <td>-0.051903</td>\n",
              "      <td>0.423946</td>\n",
              "      <td>-0.261135</td>\n",
              "      <td>-0.000830</td>\n",
              "      <td>0.343779</td>\n",
              "      <td>0.731870</td>\n",
              "      <td>0.194069</td>\n",
              "    </tr>\n",
              "    <tr>\n",
              "      <th>sqft_basement</th>\n",
              "      <td>0.323860</td>\n",
              "      <td>0.303060</td>\n",
              "      <td>0.283858</td>\n",
              "      <td>0.435065</td>\n",
              "      <td>0.015257</td>\n",
              "      <td>0.174037</td>\n",
              "      <td>0.168494</td>\n",
              "      <td>-0.051903</td>\n",
              "      <td>1.000000</td>\n",
              "      <td>-0.132999</td>\n",
              "      <td>0.074718</td>\n",
              "      <td>0.110532</td>\n",
              "      <td>-0.144722</td>\n",
              "      <td>0.200379</td>\n",
              "      <td>0.017244</td>\n",
              "    </tr>\n",
              "    <tr>\n",
              "      <th>yr_built</th>\n",
              "      <td>0.053979</td>\n",
              "      <td>0.154373</td>\n",
              "      <td>0.505974</td>\n",
              "      <td>0.318149</td>\n",
              "      <td>0.053130</td>\n",
              "      <td>-0.361278</td>\n",
              "      <td>0.446969</td>\n",
              "      <td>0.423946</td>\n",
              "      <td>-0.132999</td>\n",
              "      <td>1.000000</td>\n",
              "      <td>-0.346746</td>\n",
              "      <td>-0.148075</td>\n",
              "      <td>0.409433</td>\n",
              "      <td>0.326366</td>\n",
              "      <td>0.071039</td>\n",
              "    </tr>\n",
              "    <tr>\n",
              "      <th>zipcode</th>\n",
              "      <td>-0.053156</td>\n",
              "      <td>-0.152773</td>\n",
              "      <td>-0.203796</td>\n",
              "      <td>-0.199440</td>\n",
              "      <td>-0.129648</td>\n",
              "      <td>0.002899</td>\n",
              "      <td>-0.184728</td>\n",
              "      <td>-0.261135</td>\n",
              "      <td>0.074718</td>\n",
              "      <td>-0.346746</td>\n",
              "      <td>1.000000</td>\n",
              "      <td>0.267080</td>\n",
              "      <td>-0.564066</td>\n",
              "      <td>-0.279032</td>\n",
              "      <td>-0.147293</td>\n",
              "    </tr>\n",
              "    <tr>\n",
              "      <th>lat</th>\n",
              "      <td>0.306925</td>\n",
              "      <td>-0.008975</td>\n",
              "      <td>0.024606</td>\n",
              "      <td>0.052512</td>\n",
              "      <td>-0.085677</td>\n",
              "      <td>-0.015002</td>\n",
              "      <td>0.114088</td>\n",
              "      <td>-0.000830</td>\n",
              "      <td>0.110532</td>\n",
              "      <td>-0.148075</td>\n",
              "      <td>0.267080</td>\n",
              "      <td>1.000000</td>\n",
              "      <td>-0.135578</td>\n",
              "      <td>0.048819</td>\n",
              "      <td>-0.086426</td>\n",
              "    </tr>\n",
              "    <tr>\n",
              "      <th>long</th>\n",
              "      <td>0.021564</td>\n",
              "      <td>0.129474</td>\n",
              "      <td>0.223052</td>\n",
              "      <td>0.240220</td>\n",
              "      <td>0.229583</td>\n",
              "      <td>-0.106524</td>\n",
              "      <td>0.198322</td>\n",
              "      <td>0.343779</td>\n",
              "      <td>-0.144722</td>\n",
              "      <td>0.409433</td>\n",
              "      <td>-0.564066</td>\n",
              "      <td>-0.135578</td>\n",
              "      <td>1.000000</td>\n",
              "      <td>0.334579</td>\n",
              "      <td>0.254499</td>\n",
              "    </tr>\n",
              "    <tr>\n",
              "      <th>sqft_living15</th>\n",
              "      <td>0.585391</td>\n",
              "      <td>0.391628</td>\n",
              "      <td>0.568696</td>\n",
              "      <td>0.756419</td>\n",
              "      <td>0.144632</td>\n",
              "      <td>-0.092883</td>\n",
              "      <td>0.713214</td>\n",
              "      <td>0.731870</td>\n",
              "      <td>0.200379</td>\n",
              "      <td>0.326366</td>\n",
              "      <td>-0.279032</td>\n",
              "      <td>0.048819</td>\n",
              "      <td>0.334579</td>\n",
              "      <td>1.000000</td>\n",
              "      <td>0.183197</td>\n",
              "    </tr>\n",
              "    <tr>\n",
              "      <th>sqft_lot15</th>\n",
              "      <td>0.082459</td>\n",
              "      <td>0.029221</td>\n",
              "      <td>0.087207</td>\n",
              "      <td>0.183285</td>\n",
              "      <td>0.718555</td>\n",
              "      <td>-0.003443</td>\n",
              "      <td>0.119283</td>\n",
              "      <td>0.194069</td>\n",
              "      <td>0.017244</td>\n",
              "      <td>0.071039</td>\n",
              "      <td>-0.147293</td>\n",
              "      <td>-0.086426</td>\n",
              "      <td>0.254499</td>\n",
              "      <td>0.183197</td>\n",
              "      <td>1.000000</td>\n",
              "    </tr>\n",
              "  </tbody>\n",
              "</table>\n",
              "</div>"
            ],
            "text/plain": [
              "                  price  bedrooms  ...  sqft_living15  sqft_lot15\n",
              "price          1.000000  0.308354  ...       0.585391    0.082459\n",
              "bedrooms       0.308354  1.000000  ...       0.391628    0.029221\n",
              "bathrooms      0.525146  0.515986  ...       0.568696    0.087207\n",
              "sqft_living    0.702048  0.576677  ...       0.756419    0.183285\n",
              "sqft_lot       0.089660  0.031695  ...       0.144632    0.718555\n",
              "condition      0.036402  0.028372  ...      -0.092883   -0.003443\n",
              "grade          0.667494  0.357039  ...       0.713214    0.119283\n",
              "sqft_above     0.605572  0.477637  ...       0.731870    0.194069\n",
              "sqft_basement  0.323860  0.303060  ...       0.200379    0.017244\n",
              "yr_built       0.053979  0.154373  ...       0.326366    0.071039\n",
              "zipcode       -0.053156 -0.152773  ...      -0.279032   -0.147293\n",
              "lat            0.306925 -0.008975  ...       0.048819   -0.086426\n",
              "long           0.021564  0.129474  ...       0.334579    0.254499\n",
              "sqft_living15  0.585391  0.391628  ...       1.000000    0.183197\n",
              "sqft_lot15     0.082459  0.029221  ...       0.183197    1.000000\n",
              "\n",
              "[15 rows x 15 columns]"
            ]
          },
          "metadata": {
            "tags": []
          },
          "execution_count": 21
        }
      ]
    },
    {
      "cell_type": "markdown",
      "metadata": {
        "id": "aQykxQNH06vv"
      },
      "source": [
        "\n",
        "\n",
        "1.   the variable with highest corelation is 'sqft_living'-assume is the square foot living room\n",
        "2.   the 'grade' and 'sqft_above'and 'sqft_living15' closely follow this are the main variables that affect the price of houses\n",
        "3. things like 'zipcode'completely has no effect on the house price followed by 'longitude' and 'condition'which is surprising(very lowly correlated)\n",
        "\n"
      ]
    },
    {
      "cell_type": "markdown",
      "metadata": {
        "id": "Q46CoNM_tjHs"
      },
      "source": [
        ">> We can also use seaborn to display a heatmap of our correlations."
      ]
    },
    {
      "cell_type": "code",
      "metadata": {
        "colab": {
          "base_uri": "https://localhost:8080/",
          "height": 605
        },
        "id": "jz67nsAzpjUV",
        "outputId": "66248170-fbfc-4fb6-fd72-4095044d779f"
      },
      "source": [
        "corrmat = df_house2.corr()\n",
        "f, ax = plt.subplots(figsize=(12, 9))\n",
        "sns.heatmap(corrmat, vmax=.8, square=True);"
      ],
      "execution_count": null,
      "outputs": [
        {
          "output_type": "display_data",
          "data": {
            "image/png": "[encoded data removed]",
            "text/plain": [
              "<Figure size 864x648 with 2 Axes>"
            ]
          },
          "metadata": {
            "tags": [],
            "needs_background": "light"
          }
        }
      ]
    },
    {
      "cell_type": "code",
      "metadata": {
        "colab": {
          "base_uri": "https://localhost:8080/",
          "height": 658
        },
        "id": "uKN_9MNRp9Sc",
        "outputId": "4f48b473-de79-42e5-fb43-bcab38a58202"
      },
      "source": [
        "k = 9 #number of variables for heatmap\n",
        "cols = corrmat.nlargest(k, 'price')['price'].index\n",
        "f, ax = plt.subplots(figsize=(14, 10))\n",
        "sns.heatmap(df_house[cols].corr(), vmax=.8, square=True);"
      ],
      "execution_count": null,
      "outputs": [
        {
          "output_type": "display_data",
          "data": {
            "image/png": "[encoded data removed]",
            "text/plain": [
              "<Figure size 1008x720 with 2 Axes>"
            ]
          },
          "metadata": {
            "tags": [],
            "needs_background": "light"
          }
        }
      ]
    },
    {
      "cell_type": "markdown",
      "metadata": {
        "id": "obu6M14TtsVj"
      },
      "source": [
        ">> So we can draw the conclusion that the independent variables and the dependent variable are certainly correlated (some more, some less). But still, here we can start the Linear Regression implementation. With the depemdent variable being 'HOUSE PRICE'.We can check the importance (correlation value of each variable as listed below)."
      ]
    },
    {
      "cell_type": "code",
      "metadata": {
        "colab": {
          "base_uri": "https://localhost:8080/"
        },
        "id": "KVL3JNAOvlUN",
        "outputId": "a2997743-aecb-4195-de16-a04e7bffcd53"
      },
      "source": [
        "df_house2.corr()['price'].sort_values(ascending=False)"
      ],
      "execution_count": null,
      "outputs": [
        {
          "output_type": "execute_result",
          "data": {
            "text/plain": [
              "price            1.000000\n",
              "sqft_living      0.702044\n",
              "grade            0.667463\n",
              "sqft_above       0.605566\n",
              "sqft_living15    0.585374\n",
              "bathrooms        0.525134\n",
              "view             0.397346\n",
              "sqft_basement    0.323837\n",
              "bedrooms         0.308338\n",
              "lat              0.306919\n",
              "waterfront       0.266331\n",
              "floors           0.256786\n",
              "yr_renovated     0.126442\n",
              "sqft_lot         0.089655\n",
              "sqft_lot15       0.082456\n",
              "yr_built         0.053982\n",
              "condition        0.036392\n",
              "long             0.021571\n",
              "zipcode         -0.053168\n",
              "Name: price, dtype: float64"
            ]
          },
          "metadata": {
            "tags": []
          },
          "execution_count": 14
        }
      ]
    },
    {
      "cell_type": "markdown",
      "metadata": {
        "id": "Keaoflz2DlYr"
      },
      "source": [
        "### Multivariate Analysis"
      ]
    },
    {
      "cell_type": "markdown",
      "metadata": {
        "id": "gks8RX3iDroD"
      },
      "source": [
        ">> we will use linear Discriminant analysis.This analysis will help us in quantile regression also\n"
      ]
    },
    {
      "cell_type": "code",
      "metadata": {
        "colab": {
          "base_uri": "https://localhost:8080/"
        },
        "id": "VyoBMCpMD8YG",
        "outputId": "2df7e937-8f78-476a-9de9-b74414b455f1"
      },
      "source": [
        "# we will use variables that are only highly positively correlated with the depedent variable price\n",
        "#we also drop our target variable 'price'\n",
        "high_corr= df_house2.drop(columns = ['price','lat','sqft_lot','sqft_lot15','yr_built','condition','long','zipcode'])\n",
        "high_corr.columns"
      ],
      "execution_count": 7,
      "outputs": [
        {
          "output_type": "execute_result",
          "data": {
            "text/plain": [
              "Index(['bedrooms', 'bathrooms', 'sqft_living', 'grade', 'sqft_above',\n",
              "       'sqft_basement', 'sqft_living15'],\n",
              "      dtype='object')"
            ]
          },
          "metadata": {
            "tags": []
          },
          "execution_count": 7
        }
      ]
    },
    {
      "cell_type": "code",
      "metadata": {
        "colab": {
          "base_uri": "https://localhost:8080/"
        },
        "id": "5tXgmyqhFOUq",
        "outputId": "aeb7c21f-8440-4528-acf0-a6ea1d2c93f7"
      },
      "source": [
        "price2=df_house2['price']\n",
        "price2"
      ],
      "execution_count": 8,
      "outputs": [
        {
          "output_type": "execute_result",
          "data": {
            "text/plain": [
              "0        221900.0\n",
              "1        538000.0\n",
              "2        180000.0\n",
              "3        604000.0\n",
              "4        510000.0\n",
              "           ...   \n",
              "21608    360000.0\n",
              "21609    400000.0\n",
              "21610    402101.0\n",
              "21611    400000.0\n",
              "21612    325000.0\n",
              "Name: price, Length: 21607, dtype: float64"
            ]
          },
          "metadata": {
            "tags": []
          },
          "execution_count": 8
        }
      ]
    },
    {
      "cell_type": "code",
      "metadata": {
        "colab": {
          "base_uri": "https://localhost:8080/",
          "height": 248
        },
        "id": "ov7-e-VQGNzm",
        "outputId": "cb08dda3-522b-4585-d93f-de0d42973f9f"
      },
      "source": [
        "# Import Linear Discriminant Analysis method from sklearn library\n",
        "from sklearn.discriminant_analysis import LinearDiscriminantAnalysis as LDA\n",
        "\n",
        "# Create an instance of LDA\n",
        "lda = LDA()\n",
        "\n",
        "lda2= lda.fit(high_corr, price2)\n",
        "lda_high = lda2.transform(high_corr)\n",
        "\n",
        "# Display the coeficients of the reduction process\n",
        "lda2.coef_\n",
        "real_df= pd.DataFrame(index=high_corr.columns.values, data=lda2.coef_[0].T)\n",
        "real_df.sort_values(0, ascending=False)\n",
        "#sqft_above and sqft_living are the main independent variables we will use as predictor variables"
      ],
      "execution_count": 9,
      "outputs": [
        {
          "output_type": "execute_result",
          "data": {
            "text/html": [
              "<div>\n",
              "<style scoped>\n",
              "    .dataframe tbody tr th:only-of-type {\n",
              "        vertical-align: middle;\n",
              "    }\n",
              "\n",
              "    .dataframe tbody tr th {\n",
              "        vertical-align: top;\n",
              "    }\n",
              "\n",
              "    .dataframe thead th {\n",
              "        text-align: right;\n",
              "    }\n",
              "</style>\n",
              "<table border=\"1\" class=\"dataframe\">\n",
              "  <thead>\n",
              "    <tr style=\"text-align: right;\">\n",
              "      <th></th>\n",
              "      <th>0</th>\n",
              "    </tr>\n",
              "  </thead>\n",
              "  <tbody>\n",
              "    <tr>\n",
              "      <th>sqft_above</th>\n",
              "      <td>0.003094</td>\n",
              "    </tr>\n",
              "    <tr>\n",
              "      <th>sqft_living</th>\n",
              "      <td>0.002748</td>\n",
              "    </tr>\n",
              "    <tr>\n",
              "      <th>sqft_living15</th>\n",
              "      <td>0.001501</td>\n",
              "    </tr>\n",
              "    <tr>\n",
              "      <th>sqft_basement</th>\n",
              "      <td>-0.000950</td>\n",
              "    </tr>\n",
              "    <tr>\n",
              "      <th>bathrooms</th>\n",
              "      <td>-1.897597</td>\n",
              "    </tr>\n",
              "    <tr>\n",
              "      <th>bedrooms</th>\n",
              "      <td>-3.119094</td>\n",
              "    </tr>\n",
              "    <tr>\n",
              "      <th>grade</th>\n",
              "      <td>-8.709891</td>\n",
              "    </tr>\n",
              "  </tbody>\n",
              "</table>\n",
              "</div>"
            ],
            "text/plain": [
              "                      0\n",
              "sqft_above     0.003094\n",
              "sqft_living    0.002748\n",
              "sqft_living15  0.001501\n",
              "sqft_basement -0.000950\n",
              "bathrooms     -1.897597\n",
              "bedrooms      -3.119094\n",
              "grade         -8.709891"
            ]
          },
          "metadata": {
            "tags": []
          },
          "execution_count": 9
        }
      ]
    },
    {
      "cell_type": "markdown",
      "metadata": {
        "id": "sGFiVAtKB_mn"
      },
      "source": [
        "#### Multi-collinearity"
      ]
    },
    {
      "cell_type": "markdown",
      "metadata": {
        "id": "iQW78dMgtejF"
      },
      "source": [
        ">> If the dataset has large no. of features, then it is possible that few of the features may be highly correlated. This is called as multi-collinearity.\n",
        "Presence of multi-collinearity in data can destabilize the MLR model.\n",
        "Due to presence of multi-collinearity, it is possible that statistically significant feature may be labelled as statistically insignificant.\n",
        "Variance Inflation Factor (VIF):\n",
        "It measures the magnitude of multi-collinearity. For example, to find multi-collinearity between two features X1 and X2, we build regression model between them as X1=α0+α1X2 and let R² be the R-square value for regression model.\n",
        "Then variance inflation factor is given by VIF = 1/(1-R²). sqrt(VIF) of a feature is value that indicates by how much larger the standard error is increased, in presence of multicollinearity. If VIF=1 for all features, then features are not correlated. If VIF>4(threshold, some suggest 10), then we need to check the impact of multi-collinearity.lets check for multicolinearity:-"
      ]
    },
    {
      "cell_type": "code",
      "metadata": {
        "id": "tQrtGxHMuPjT",
        "colab": {
          "base_uri": "https://localhost:8080/",
          "height": 248
        },
        "outputId": "9ab14b1c-9c06-4e0d-8d6e-f7de44741c61"
      },
      "source": [
        "# Detecting and Checking for multicollinearity for the independent variables only that are highly positively correlated\n",
        "#we then drop our target variable 'price'\n",
        "multi_co= df_house2.drop(columns = ['price','lat','sqft_lot','sqft_lot15','yr_built','condition','long','zipcode'])\n",
        "#we then look for their correlation matrix\n",
        "correlations = multi_co.corr()\n",
        "correlations"
      ],
      "execution_count": null,
      "outputs": [
        {
          "output_type": "execute_result",
          "data": {
            "text/html": [
              "<div>\n",
              "<style scoped>\n",
              "    .dataframe tbody tr th:only-of-type {\n",
              "        vertical-align: middle;\n",
              "    }\n",
              "\n",
              "    .dataframe tbody tr th {\n",
              "        vertical-align: top;\n",
              "    }\n",
              "\n",
              "    .dataframe thead th {\n",
              "        text-align: right;\n",
              "    }\n",
              "</style>\n",
              "<table border=\"1\" class=\"dataframe\">\n",
              "  <thead>\n",
              "    <tr style=\"text-align: right;\">\n",
              "      <th></th>\n",
              "      <th>bedrooms</th>\n",
              "      <th>bathrooms</th>\n",
              "      <th>sqft_living</th>\n",
              "      <th>grade</th>\n",
              "      <th>sqft_above</th>\n",
              "      <th>sqft_basement</th>\n",
              "      <th>sqft_living15</th>\n",
              "    </tr>\n",
              "  </thead>\n",
              "  <tbody>\n",
              "    <tr>\n",
              "      <th>bedrooms</th>\n",
              "      <td>1.000000</td>\n",
              "      <td>0.515884</td>\n",
              "      <td>0.576671</td>\n",
              "      <td>0.356967</td>\n",
              "      <td>0.477600</td>\n",
              "      <td>0.303093</td>\n",
              "      <td>0.391638</td>\n",
              "    </tr>\n",
              "    <tr>\n",
              "      <th>bathrooms</th>\n",
              "      <td>0.515884</td>\n",
              "      <td>1.000000</td>\n",
              "      <td>0.754665</td>\n",
              "      <td>0.664983</td>\n",
              "      <td>0.685342</td>\n",
              "      <td>0.283770</td>\n",
              "      <td>0.568634</td>\n",
              "    </tr>\n",
              "    <tr>\n",
              "      <th>sqft_living</th>\n",
              "      <td>0.576671</td>\n",
              "      <td>0.754665</td>\n",
              "      <td>1.000000</td>\n",
              "      <td>0.762704</td>\n",
              "      <td>0.876597</td>\n",
              "      <td>0.435043</td>\n",
              "      <td>0.756420</td>\n",
              "    </tr>\n",
              "    <tr>\n",
              "      <th>grade</th>\n",
              "      <td>0.356967</td>\n",
              "      <td>0.664983</td>\n",
              "      <td>0.762704</td>\n",
              "      <td>1.000000</td>\n",
              "      <td>0.755923</td>\n",
              "      <td>0.168392</td>\n",
              "      <td>0.713202</td>\n",
              "    </tr>\n",
              "    <tr>\n",
              "      <th>sqft_above</th>\n",
              "      <td>0.477600</td>\n",
              "      <td>0.685342</td>\n",
              "      <td>0.876597</td>\n",
              "      <td>0.755923</td>\n",
              "      <td>1.000000</td>\n",
              "      <td>-0.051943</td>\n",
              "      <td>0.731870</td>\n",
              "    </tr>\n",
              "    <tr>\n",
              "      <th>sqft_basement</th>\n",
              "      <td>0.303093</td>\n",
              "      <td>0.283770</td>\n",
              "      <td>0.435043</td>\n",
              "      <td>0.168392</td>\n",
              "      <td>-0.051943</td>\n",
              "      <td>1.000000</td>\n",
              "      <td>0.200355</td>\n",
              "    </tr>\n",
              "    <tr>\n",
              "      <th>sqft_living15</th>\n",
              "      <td>0.391638</td>\n",
              "      <td>0.568634</td>\n",
              "      <td>0.756420</td>\n",
              "      <td>0.713202</td>\n",
              "      <td>0.731870</td>\n",
              "      <td>0.200355</td>\n",
              "      <td>1.000000</td>\n",
              "    </tr>\n",
              "  </tbody>\n",
              "</table>\n",
              "</div>"
            ],
            "text/plain": [
              "               bedrooms  bathrooms  ...  sqft_basement  sqft_living15\n",
              "bedrooms       1.000000   0.515884  ...       0.303093       0.391638\n",
              "bathrooms      0.515884   1.000000  ...       0.283770       0.568634\n",
              "sqft_living    0.576671   0.754665  ...       0.435043       0.756420\n",
              "grade          0.356967   0.664983  ...       0.168392       0.713202\n",
              "sqft_above     0.477600   0.685342  ...      -0.051943       0.731870\n",
              "sqft_basement  0.303093   0.283770  ...       1.000000       0.200355\n",
              "sqft_living15  0.391638   0.568634  ...       0.200355       1.000000\n",
              "\n",
              "[7 rows x 7 columns]"
            ]
          },
          "metadata": {
            "tags": []
          },
          "execution_count": 121
        }
      ]
    },
    {
      "cell_type": "code",
      "metadata": {
        "colab": {
          "base_uri": "https://localhost:8080/",
          "height": 248
        },
        "id": "nPUxaSof8gJy",
        "outputId": "4cf21919-c277-4226-e34e-7ec6689a34f1"
      },
      "source": [
        "# we then compute the Variance Inflation Factor(VIF), BY FINDING the inverse correlation(above)\n",
        "\n",
        "pd.DataFrame(np.linalg.inv(correlations.values), index = correlations.index, columns=correlations.columns)"
      ],
      "execution_count": null,
      "outputs": [
        {
          "output_type": "execute_result",
          "data": {
            "text/html": [
              "<div>\n",
              "<style scoped>\n",
              "    .dataframe tbody tr th:only-of-type {\n",
              "        vertical-align: middle;\n",
              "    }\n",
              "\n",
              "    .dataframe tbody tr th {\n",
              "        vertical-align: top;\n",
              "    }\n",
              "\n",
              "    .dataframe thead th {\n",
              "        text-align: right;\n",
              "    }\n",
              "</style>\n",
              "<table border=\"1\" class=\"dataframe\">\n",
              "  <thead>\n",
              "    <tr style=\"text-align: right;\">\n",
              "      <th></th>\n",
              "      <th>bedrooms</th>\n",
              "      <th>bathrooms</th>\n",
              "      <th>sqft_living</th>\n",
              "      <th>grade</th>\n",
              "      <th>sqft_above</th>\n",
              "      <th>sqft_basement</th>\n",
              "      <th>sqft_living15</th>\n",
              "    </tr>\n",
              "  </thead>\n",
              "  <tbody>\n",
              "    <tr>\n",
              "      <th>bedrooms</th>\n",
              "      <td>1.595715</td>\n",
              "      <td>-0.380173</td>\n",
              "      <td>-2.866298e-01</td>\n",
              "      <td>0.369324</td>\n",
              "      <td>-5.733270e-01</td>\n",
              "      <td>-3.519093e-01</td>\n",
              "      <td>0.033412</td>\n",
              "    </tr>\n",
              "    <tr>\n",
              "      <th>bathrooms</th>\n",
              "      <td>-0.380173</td>\n",
              "      <td>2.538715</td>\n",
              "      <td>-3.805839e+00</td>\n",
              "      <td>-0.659156</td>\n",
              "      <td>2.190354e+00</td>\n",
              "      <td>1.234902e+00</td>\n",
              "      <td>0.202502</td>\n",
              "    </tr>\n",
              "    <tr>\n",
              "      <th>sqft_living</th>\n",
              "      <td>-0.285135</td>\n",
              "      <td>-3.804398</td>\n",
              "      <td>-3.378158e+13</td>\n",
              "      <td>-0.228729</td>\n",
              "      <td>3.045838e+13</td>\n",
              "      <td>1.627855e+13</td>\n",
              "      <td>-1.130414</td>\n",
              "    </tr>\n",
              "    <tr>\n",
              "      <th>grade</th>\n",
              "      <td>0.369324</td>\n",
              "      <td>-0.659156</td>\n",
              "      <td>-2.333559e-01</td>\n",
              "      <td>3.031975</td>\n",
              "      <td>-1.236991e+00</td>\n",
              "      <td>-2.374732e-01</td>\n",
              "      <td>-0.803261</td>\n",
              "    </tr>\n",
              "    <tr>\n",
              "      <th>sqft_above</th>\n",
              "      <td>-0.573452</td>\n",
              "      <td>2.190774</td>\n",
              "      <td>3.045838e+13</td>\n",
              "      <td>-1.240633</td>\n",
              "      <td>-2.746209e+13</td>\n",
              "      <td>-1.467718e+13</td>\n",
              "      <td>-0.518092</td>\n",
              "    </tr>\n",
              "    <tr>\n",
              "      <th>sqft_basement</th>\n",
              "      <td>-0.350396</td>\n",
              "      <td>1.234113</td>\n",
              "      <td>1.627855e+13</td>\n",
              "      <td>-0.239449</td>\n",
              "      <td>-1.467718e+13</td>\n",
              "      <td>-7.844249e+12</td>\n",
              "      <td>-0.004367</td>\n",
              "    </tr>\n",
              "    <tr>\n",
              "      <th>sqft_living15</th>\n",
              "      <td>0.033412</td>\n",
              "      <td>0.202502</td>\n",
              "      <td>-1.131126e+00</td>\n",
              "      <td>-0.803261</td>\n",
              "      <td>-5.174506e-01</td>\n",
              "      <td>-4.023685e-03</td>\n",
              "      <td>2.679772</td>\n",
              "    </tr>\n",
              "  </tbody>\n",
              "</table>\n",
              "</div>"
            ],
            "text/plain": [
              "               bedrooms  bathrooms  ...  sqft_basement  sqft_living15\n",
              "bedrooms       1.595715  -0.380173  ...  -3.519093e-01       0.033412\n",
              "bathrooms     -0.380173   2.538715  ...   1.234902e+00       0.202502\n",
              "sqft_living   -0.285135  -3.804398  ...   1.627855e+13      -1.130414\n",
              "grade          0.369324  -0.659156  ...  -2.374732e-01      -0.803261\n",
              "sqft_above    -0.573452   2.190774  ...  -1.467718e+13      -0.518092\n",
              "sqft_basement -0.350396   1.234113  ...  -7.844249e+12      -0.004367\n",
              "sqft_living15  0.033412   0.202502  ...  -4.023685e-03       2.679772\n",
              "\n",
              "[7 rows x 7 columns]"
            ]
          },
          "metadata": {
            "tags": []
          },
          "execution_count": 122
        }
      ]
    },
    {
      "cell_type": "markdown",
      "metadata": {
        "id": "ELZu_qMy_KaI"
      },
      "source": [
        ">>> multi-collinearity doesnt exist between our most important variables since none is VIF<4 FOR ALL WITH none =1....sooo there is no multicollinearity"
      ]
    },
    {
      "cell_type": "markdown",
      "metadata": {
        "id": "UrB5f9hIADyd"
      },
      "source": [
        "### Multiple LineaR Regression"
      ]
    },
    {
      "cell_type": "markdown",
      "metadata": {
        "id": "hamBO8Ovrryh"
      },
      "source": [
        ">>In this project we are going to use Python and Scikit-Learn to implement a Multiple Regression model that will try to predict house prices based on a few characteristics of those houses and historical data.(depending on our dataset)\n",
        "\n",
        "\n",
        "We need to install a few dependencies before we can continue."
      ]
    },
    {
      "cell_type": "code",
      "metadata": {
        "id": "anCxrXSpq_PE"
      },
      "source": [
        "from sklearn.model_selection import train_test_split\n",
        "from sklearn.linear_model import LinearRegression\n",
        "from sklearn.metrics import mean_squared_error\n",
        "from sklearn.metrics import r2_score\n",
        "from math import sqrt"
      ],
      "execution_count": 10,
      "outputs": []
    },
    {
      "cell_type": "markdown",
      "metadata": {
        "id": "KVt1yKAmsM7K"
      },
      "source": [
        ">> Having loaded the dataset into a dataframe already, we can go on and  get a few interesting statistics about it."
      ]
    },
    {
      "cell_type": "code",
      "metadata": {
        "colab": {
          "base_uri": "https://localhost:8080/"
        },
        "id": "P0UZZzfUrSO6",
        "outputId": "16a46e27-1772-40c1-9008-bdd8aa329b00"
      },
      "source": [
        "# Statistics\n",
        "print(high_corr.describe())\n",
        "print(price2.describe())"
      ],
      "execution_count": null,
      "outputs": [
        {
          "output_type": "stream",
          "text": [
            "           bedrooms     bathrooms  ...  sqft_basement  sqft_living15\n",
            "count  21613.000000  21613.000000  ...   21613.000000   21613.000000\n",
            "mean       3.370842      2.114757  ...     291.509045    1986.552492\n",
            "std        0.930062      0.770163  ...     442.575043     685.391304\n",
            "min        0.000000      0.000000  ...       0.000000     399.000000\n",
            "25%        3.000000      1.750000  ...       0.000000    1490.000000\n",
            "50%        3.000000      2.250000  ...       0.000000    1840.000000\n",
            "75%        4.000000      2.500000  ...     560.000000    2360.000000\n",
            "max       33.000000      8.000000  ...    4820.000000    6210.000000\n",
            "\n",
            "[8 rows x 7 columns]\n",
            "count    2.161300e+04\n",
            "mean     5.401822e+05\n",
            "std      3.673622e+05\n",
            "min      7.500000e+04\n",
            "25%      3.219500e+05\n",
            "50%      4.500000e+05\n",
            "75%      6.450000e+05\n",
            "max      7.700000e+06\n",
            "Name: price, dtype: float64\n"
          ],
          "name": "stdout"
        }
      ]
    },
    {
      "cell_type": "markdown",
      "metadata": {
        "id": "4pSUZBVAswsT"
      },
      "source": [
        ">> Before we proceed with our Linear Regression implementation, we need to check whether the independent variables are correlated, meaning the variables that we consider to be independent have an influence over the dependent variable."
      ]
    },
    {
      "cell_type": "code",
      "metadata": {
        "id": "mviFWZSZuY7B"
      },
      "source": [
        "#We will first split our dataset into X and Y, meaning our independent and dependent variables.\n",
        "# Split features and target\n",
        "x = high_corr.values\n",
        "y = price2.values\n"
      ],
      "execution_count": 11,
      "outputs": []
    },
    {
      "cell_type": "markdown",
      "metadata": {
        "id": "iro2yPZTu1Sr"
      },
      "source": [
        ">> Now we want to perform a train-test dataset split. This means we are going to randomly select a portion of our dataset for the model training, while keeping a separate subset for model testing and evaluation. This ensures that the model is not biased and helps us obtain a better evaluation.\n",
        "\n",
        "For this dataset we are going to use 70% of the dataset for the training set, while the remaining 30% goes to the test set."
      ]
    },
    {
      "cell_type": "code",
      "metadata": {
        "colab": {
          "base_uri": "https://localhost:8080/"
        },
        "id": "NqINRaN6ug3f",
        "outputId": "6dfaa90e-451c-4cfa-844d-71e5b0d4a8b6"
      },
      "source": [
        "# Train-test split validation\n",
        "x_train, x_test, y_train, y_test = train_test_split(x, y, test_size = 0.3,random_state=42)\n",
        "print(x_train.shape)\n",
        "print(x_test.shape)\n",
        "print(y_train.shape)\n",
        "print(y_test.shape)"
      ],
      "execution_count": 12,
      "outputs": [
        {
          "output_type": "stream",
          "text": [
            "(15124, 7)\n",
            "(6483, 7)\n",
            "(15124,)\n",
            "(6483,)\n"
          ],
          "name": "stdout"
        }
      ]
    },
    {
      "cell_type": "markdown",
      "metadata": {
        "id": "Vib3YUQVve81"
      },
      "source": [
        ">> then we perform the linear regression"
      ]
    },
    {
      "cell_type": "code",
      "metadata": {
        "colab": {
          "base_uri": "https://localhost:8080/"
        },
        "id": "F4ouGU7LvnBL",
        "outputId": "eceb7ffc-8085-4de4-b5fa-101e6200673e"
      },
      "source": [
        "# Train the model\n",
        "model = LinearRegression()\n",
        "model.fit(x_train, y_train)"
      ],
      "execution_count": 13,
      "outputs": [
        {
          "output_type": "execute_result",
          "data": {
            "text/plain": [
              "LinearRegression(copy_X=True, fit_intercept=True, n_jobs=None, normalize=False)"
            ]
          },
          "metadata": {
            "tags": []
          },
          "execution_count": 13
        }
      ]
    },
    {
      "cell_type": "markdown",
      "metadata": {
        "id": "z3oYwE6-wLPU"
      },
      "source": [
        ">> now our model contains our estimates for our equation parameters. We can now use these estimates to obtain our house price estimations."
      ]
    },
    {
      "cell_type": "code",
      "metadata": {
        "id": "czV3G92XwNaO"
      },
      "source": [
        "# Test the model\n",
        "y_pred = model.predict(x_test)"
      ],
      "execution_count": 14,
      "outputs": []
    },
    {
      "cell_type": "code",
      "metadata": {
        "id": "hJG542T5TYRl"
      },
      "source": [
        "#Train the model\n",
        "pred_train= model.predict(x_train)"
      ],
      "execution_count": 15,
      "outputs": []
    },
    {
      "cell_type": "code",
      "metadata": {
        "colab": {
          "base_uri": "https://localhost:8080/",
          "height": 306
        },
        "id": "1OrYwFXZdMoh",
        "outputId": "b5768db9-ac85-4680-f442-377560d92c70"
      },
      "source": [
        "plt.scatter(y_test, y_pred)\n",
        "plt.plot([10,25],[10,25], 'r')\n",
        "plt.xlabel('real Price')\n",
        "plt.ylabel('predicted Price')"
      ],
      "execution_count": 16,
      "outputs": [
        {
          "output_type": "execute_result",
          "data": {
            "text/plain": [
              "Text(0, 0.5, 'predicted Price')"
            ]
          },
          "metadata": {
            "tags": []
          },
          "execution_count": 16
        },
        {
          "output_type": "display_data",
          "data": {
            "image/png": "[encoded data removed]",
            "text/plain": [
              "<Figure size 432x288 with 1 Axes>"
            ]
          },
          "metadata": {
            "tags": [],
            "needs_background": "light"
          }
        }
      ]
    },
    {
      "cell_type": "markdown",
      "metadata": {
        "id": "w1ZmNVfJwcTE"
      },
      "source": [
        ">> We can lookminto our model evaluation..Model Evaluation is an integral part of the model development process. It helps to find the best model that represents our dataset and how well the chosen model will work in the future. To avoid overfitting or underfitting, both methods use a test set (not seen by the model) to evaluate model performance.In our case we will use the RMSE "
      ]
    },
    {
      "cell_type": "code",
      "metadata": {
        "colab": {
          "base_uri": "https://localhost:8080/"
        },
        "id": "1BY9OQTqbzCg",
        "outputId": "56aa157e-7792-4feb-b736-b07c82e5cdad"
      },
      "source": [
        "# Print RMSE\n",
        "print(np.sqrt(mean_squared_error(y_test, y_pred)))\n",
        "print(np.sqrt(mean_squared_error(y_train, pred_train)))"
      ],
      "execution_count": 17,
      "outputs": [
        {
          "output_type": "stream",
          "text": [
            "256134.10823062673\n",
            "241927.93692323082\n"
          ],
          "name": "stdout"
        }
      ]
    },
    {
      "cell_type": "code",
      "metadata": {
        "colab": {
          "base_uri": "https://localhost:8080/"
        },
        "id": "vuGFy1y5QNoc",
        "outputId": "86cf8993-17c0-4953-d69e-ab9fdbb23758"
      },
      "source": [
        "#print R2 SCORE\n",
        "print(r2_score(y_test,y_pred))\n",
        "print(r2_score(y_train,pred_train))"
      ],
      "execution_count": 18,
      "outputs": [
        {
          "output_type": "stream",
          "text": [
            "0.5492509326882564\n",
            "0.5512250553888889\n"
          ],
          "name": "stdout"
        }
      ]
    },
    {
      "cell_type": "markdown",
      "metadata": {
        "id": "lRAkuRURf6oD"
      },
      "source": [
        ">> The above output shows that the RMSE, one of the two evaluation metrics, is 256134 thousand for test data and 241927.9 thousand for train data. On the other hand, R-squared value is 55.1 percent for train data and 54.9 percent for test data, which is a fairlY BAD performance.\n",
        "\n",
        ">> How do we interpret this value? It means that for every real median house price in our dataset, our model will be wrong, on average, with about kes2561341. This is such a big error, judging by the big size of our dataset.\n",
        "\n",
        ">> This means that if tomorrow we register new values for the characteristics followed in the dataset, we can feed them through our model and get an estimation for the median house price in the Hass consult company. But we have to be aware that the estimated price will be, on average, kes2561341 higher with test  and lower than the actual value. The error might be larger, smaller, but on average it's kes2561341."
      ]
    },
    {
      "cell_type": "code",
      "metadata": {
        "colab": {
          "base_uri": "https://localhost:8080/",
          "height": 35
        },
        "id": "Zm-oo12ae_7h",
        "outputId": "7c582c40-f048-4c9c-bb32-88a6a40716cd"
      },
      "source": [
        "accuracy = model.score(x_test, y_test)\n",
        "\"Accuracy: {}%\".format(int(round(accuracy * 100)))"
      ],
      "execution_count": 36,
      "outputs": [
        {
          "output_type": "execute_result",
          "data": {
            "application/vnd.google.colaboratory.intrinsic+json": {
              "type": "string"
            },
            "text/plain": [
              "'Accuracy: 55%'"
            ]
          },
          "metadata": {
            "tags": []
          },
          "execution_count": 36
        }
      ]
    },
    {
      "cell_type": "code",
      "metadata": {
        "colab": {
          "base_uri": "https://localhost:8080/",
          "height": 35
        },
        "id": "dMNlJ9ksWw3_",
        "outputId": "0f067f0d-6d63-4647-c286-1bb556e54c14"
      },
      "source": [
        "accuracy = model.score(x_train, y_train)\n",
        "\"Accuracy: {}%\".format(int(round(accuracy * 100)))"
      ],
      "execution_count": 37,
      "outputs": [
        {
          "output_type": "execute_result",
          "data": {
            "application/vnd.google.colaboratory.intrinsic+json": {
              "type": "string"
            },
            "text/plain": [
              "'Accuracy: 55%'"
            ]
          },
          "metadata": {
            "tags": []
          },
          "execution_count": 37
        }
      ]
    },
    {
      "cell_type": "markdown",
      "metadata": {
        "id": "mjv35HawBuo5"
      },
      "source": [
        ">>* very poor accuracy we try other models.As discussed above, linear regression works by selecting coefficients for each independent variable that minimizes a loss function.\n",
        ">>* However,our coefficients are too large, which has led to the model over-fitting for both the training and testing dataset. Such a models wont generalize well on the unseen data.\n",
        ">>* To overcome this shortcoming, we do regularization which penalizes large coefficients.We will use coefficients we had gotten in multivariate analysis,where we had already done reduction ."
      ]
    },
    {
      "cell_type": "markdown",
      "metadata": {
        "id": "_QZKFlCkrYJi"
      },
      "source": [
        "### Quantile Regression"
      ]
    },
    {
      "cell_type": "code",
      "metadata": {
        "id": "FkX2pQAuyXmn"
      },
      "source": [
        "# Quantile regression features, features used are the ones selected from our multivariate analysis.\n",
        "\n",
        "sqft_above\t= df_house2['sqft_above'].values\n",
        "sqft_living\t= df_house2['sqft_living'].values\n"
      ],
      "execution_count": 52,
      "outputs": []
    },
    {
      "cell_type": "code",
      "metadata": {
        "colab": {
          "base_uri": "https://localhost:8080/"
        },
        "id": "lOAy3DEiymfn",
        "outputId": "fffce368-20bb-4c70-cd9b-743fa5668024"
      },
      "source": [
        "# Fitting our  quantile model using the sqft_above feature\n",
        "import statsmodels.formula.api as smf\n",
        "\n",
        "model = smf.quantreg('y ~ sqft_above', df_house2)\n",
        "\n",
        "residuals = model.fit()\n",
        "\n",
        "print(residuals.summary())\n",
        "print(\"*****************************************************************\")\n",
        "print(residuals.params)"
      ],
      "execution_count": 19,
      "outputs": [
        {
          "output_type": "stream",
          "text": [
            "/usr/local/lib/python3.6/dist-packages/statsmodels/tools/_testing.py:19: FutureWarning: pandas.util.testing is deprecated. Use the functions in the public API at pandas.testing instead.\n",
            "  import pandas.util.testing as tm\n"
          ],
          "name": "stderr"
        },
        {
          "output_type": "stream",
          "text": [
            "                         QuantReg Regression Results                          \n",
            "==============================================================================\n",
            "Dep. Variable:                      y   Pseudo R-squared:               0.1770\n",
            "Model:                       QuantReg   Bandwidth:                   3.429e+04\n",
            "Method:                 Least Squares   Sparsity:                    4.667e+05\n",
            "Date:                Wed, 25 Nov 2020   No. Observations:                21607\n",
            "Time:                        04:05:52   Df Residuals:                    21605\n",
            "                                        Df Model:                            1\n",
            "==============================================================================\n",
            "                 coef    std err          t      P>|t|      [0.025      0.975]\n",
            "------------------------------------------------------------------------------\n",
            "Intercept   1.337e+05   3778.092     35.378      0.000    1.26e+05    1.41e+05\n",
            "sqft_above   199.2032      1.917    103.910      0.000     195.446     202.961\n",
            "==============================================================================\n",
            "\n",
            "The condition number is large, 4.69e+03. This might indicate that there are\n",
            "strong multicollinearity or other numerical problems.\n",
            "*****************************************************************\n",
            "Intercept     133661.354585\n",
            "sqft_above       199.203187\n",
            "dtype: float64\n"
          ],
          "name": "stdout"
        }
      ]
    },
    {
      "cell_type": "code",
      "metadata": {
        "colab": {
          "base_uri": "https://localhost:8080/",
          "height": 133
        },
        "id": "G3evZQyJzvdg",
        "outputId": "2e32302e-1796-4ded-fd2d-ba7776877a71"
      },
      "source": [
        "# Fitting the quantiles\n",
        "\n",
        "quantiles = [0.25,0.5,0.75]\n",
        "models = []\n",
        "param = []\n",
        "\n",
        "for q in quantiles:\n",
        "  res1 = model.fit(q = q)\n",
        "  models.append(res1)\n",
        "  param.append([q, res1.params['Intercept'], res1.params['sqft_above']] + res1.conf_int().loc['sqft_above'].tolist())\n",
        "\n",
        "# We then make a dataframe of the same name, so we we can view our different models.\n",
        "param = pd.DataFrame(data = param, columns = ['quantile', 'intercept', 'sqft_above_coef', 'cf_lower_bound', 'cf_upper_bound'])\n",
        "param"
      ],
      "execution_count": 20,
      "outputs": [
        {
          "output_type": "execute_result",
          "data": {
            "text/html": [
              "<div>\n",
              "<style scoped>\n",
              "    .dataframe tbody tr th:only-of-type {\n",
              "        vertical-align: middle;\n",
              "    }\n",
              "\n",
              "    .dataframe tbody tr th {\n",
              "        vertical-align: top;\n",
              "    }\n",
              "\n",
              "    .dataframe thead th {\n",
              "        text-align: right;\n",
              "    }\n",
              "</style>\n",
              "<table border=\"1\" class=\"dataframe\">\n",
              "  <thead>\n",
              "    <tr style=\"text-align: right;\">\n",
              "      <th></th>\n",
              "      <th>quantile</th>\n",
              "      <th>intercept</th>\n",
              "      <th>sqft_above_coef</th>\n",
              "      <th>cf_lower_bound</th>\n",
              "      <th>cf_upper_bound</th>\n",
              "    </tr>\n",
              "  </thead>\n",
              "  <tbody>\n",
              "    <tr>\n",
              "      <th>0</th>\n",
              "      <td>0.25</td>\n",
              "      <td>82865.079359</td>\n",
              "      <td>153.174603</td>\n",
              "      <td>150.179628</td>\n",
              "      <td>156.169578</td>\n",
              "    </tr>\n",
              "    <tr>\n",
              "      <th>1</th>\n",
              "      <td>0.50</td>\n",
              "      <td>133661.354585</td>\n",
              "      <td>199.203187</td>\n",
              "      <td>195.445582</td>\n",
              "      <td>202.960793</td>\n",
              "    </tr>\n",
              "    <tr>\n",
              "      <th>2</th>\n",
              "      <td>0.75</td>\n",
              "      <td>194999.999998</td>\n",
              "      <td>250.000000</td>\n",
              "      <td>244.347847</td>\n",
              "      <td>255.652153</td>\n",
              "    </tr>\n",
              "  </tbody>\n",
              "</table>\n",
              "</div>"
            ],
            "text/plain": [
              "   quantile      intercept  sqft_above_coef  cf_lower_bound  cf_upper_bound\n",
              "0      0.25   82865.079359       153.174603      150.179628      156.169578\n",
              "1      0.50  133661.354585       199.203187      195.445582      202.960793\n",
              "2      0.75  194999.999998       250.000000      244.347847      255.652153"
            ]
          },
          "metadata": {
            "tags": []
          },
          "execution_count": 20
        }
      ]
    },
    {
      "cell_type": "code",
      "metadata": {
        "colab": {
          "base_uri": "https://localhost:8080/"
        },
        "id": "OKY2FUJs0HTb",
        "outputId": "6985559d-41f2-4479-a246-5f1f9223f201"
      },
      "source": [
        "# We do a Linear regression using OLS\n",
        "\n",
        "ols = smf.ols('y ~ sqft_above', df_house2).fit()\n",
        "print(ols.summary())\n",
        "\n",
        "param1 = ols.conf_int().loc['sqft_above'].tolist()\n",
        "ols = dict(intercept = ols.params['Intercept'],\n",
        "           bedrooms_coef = ols.params['sqft_above'],\n",
        "           cf_lower_bound = param1[0],\n",
        "           cf_upper_bound = param1[1])\n",
        "\n",
        "print(ols)"
      ],
      "execution_count": 21,
      "outputs": [
        {
          "output_type": "stream",
          "text": [
            "                            OLS Regression Results                            \n",
            "==============================================================================\n",
            "Dep. Variable:                      y   R-squared:                       0.367\n",
            "Model:                            OLS   Adj. R-squared:                  0.367\n",
            "Method:                 Least Squares   F-statistic:                 1.251e+04\n",
            "Date:                Wed, 25 Nov 2020   Prob (F-statistic):               0.00\n",
            "Time:                        04:09:03   Log-Likelihood:            -3.0260e+05\n",
            "No. Observations:               21607   AIC:                         6.052e+05\n",
            "Df Residuals:                   21605   BIC:                         6.052e+05\n",
            "Df Model:                           1                                         \n",
            "Covariance Type:            nonrobust                                         \n",
            "==============================================================================\n",
            "                 coef    std err          t      P>|t|      [0.025      0.975]\n",
            "------------------------------------------------------------------------------\n",
            "Intercept   5.974e+04   4733.494     12.621      0.000    5.05e+04     6.9e+04\n",
            "sqft_above   268.6532      2.402    111.852      0.000     263.945     273.361\n",
            "==============================================================================\n",
            "Omnibus:                    16498.645   Durbin-Watson:                   1.987\n",
            "Prob(Omnibus):                  0.000   Jarque-Bera (JB):           728642.005\n",
            "Skew:                           3.265   Prob(JB):                         0.00\n",
            "Kurtosis:                      30.689   Cond. No.                     4.69e+03\n",
            "==============================================================================\n",
            "\n",
            "Warnings:\n",
            "[1] Standard Errors assume that the covariance matrix of the errors is correctly specified.\n",
            "[2] The condition number is large, 4.69e+03. This might indicate that there are\n",
            "strong multicollinearity or other numerical problems.\n",
            "{'intercept': 59741.83676430671, 'bedrooms_coef': 268.65320515342916, 'cf_lower_bound': 263.94537908073147, 'cf_upper_bound': 273.36103122612684}\n"
          ],
          "name": "stdout"
        }
      ]
    },
    {
      "cell_type": "code",
      "metadata": {
        "colab": {
          "base_uri": "https://localhost:8080/",
          "height": 307
        },
        "id": "D8SPibeX0M5F",
        "outputId": "d9ba9a5f-1956-4e32-d894-5a24136a5f41"
      },
      "source": [
        "x_ =df_house2 ['sqft_above'].values\n",
        "y_ = df_house2['price'].values\n",
        "\n",
        "plt.figure(3)\n",
        "plt.scatter(x_, y_)\n",
        "plt.xlabel(\"sqft_above\")\n",
        "plt.ylabel(\"house_price\")"
      ],
      "execution_count": 26,
      "outputs": [
        {
          "output_type": "execute_result",
          "data": {
            "text/plain": [
              "Text(0, 0.5, 'house_price')"
            ]
          },
          "metadata": {
            "tags": []
          },
          "execution_count": 26
        },
        {
          "output_type": "display_data",
          "data": {
            "image/png": "[encoded data removed]",
            "text/plain": [
              "<Figure size 432x288 with 1 Axes>"
            ]
          },
          "metadata": {
            "tags": [],
            "needs_background": "light"
          }
        }
      ]
    },
    {
      "cell_type": "code",
      "metadata": {
        "colab": {
          "base_uri": "https://localhost:8080/"
        },
        "id": "0QPBCquk0bZg",
        "outputId": "7c4a85dd-c5dd-47bd-d18e-b164324a87d2"
      },
      "source": [
        "# Fitting our  quantile model using the sqft_lot feature\n",
        "import statsmodels.formula.api as smf\n",
        "\n",
        "model = smf.quantreg('y ~ sqft_living', df_house2)\n",
        "\n",
        "res2 = model.fit()\n",
        "\n",
        "print(res2.summary())\n",
        "print(\"*****************************************************************\")\n",
        "print(res2.params)"
      ],
      "execution_count": 30,
      "outputs": [
        {
          "output_type": "stream",
          "text": [
            "                         QuantReg Regression Results                          \n",
            "==============================================================================\n",
            "Dep. Variable:                      y   Pseudo R-squared:               0.2479\n",
            "Model:                       QuantReg   Bandwidth:                   3.151e+04\n",
            "Method:                 Least Squares   Sparsity:                    4.835e+05\n",
            "Date:                Wed, 25 Nov 2020   No. Observations:                21607\n",
            "Time:                        04:13:32   Df Residuals:                    21605\n",
            "                                        Df Model:                            1\n",
            "===============================================================================\n",
            "                  coef    std err          t      P>|t|      [0.025      0.975]\n",
            "-------------------------------------------------------------------------------\n",
            "Intercept     5.26e+04   4071.358     12.920      0.000    4.46e+04    6.06e+04\n",
            "sqft_living   216.7630      1.791    121.052      0.000     213.253     220.273\n",
            "===============================================================================\n",
            "\n",
            "The condition number is large, 5.63e+03. This might indicate that there are\n",
            "strong multicollinearity or other numerical problems.\n",
            "*****************************************************************\n",
            "Intercept      52601.156072\n",
            "sqft_living      216.763006\n",
            "dtype: float64\n"
          ],
          "name": "stdout"
        }
      ]
    },
    {
      "cell_type": "code",
      "metadata": {
        "colab": {
          "base_uri": "https://localhost:8080/"
        },
        "id": "wmnLuhFM0bT1",
        "outputId": "f8c87bb6-77ae-4796-8afd-c6f8ee88b9c8"
      },
      "source": [
        "\n",
        "ols = smf.ols('y ~ sqft_living', df_house2).fit()\n",
        "print(ols.summary())\n",
        "\n",
        "param2 = ols.conf_int().loc['sqft_living'].tolist()\n",
        "ols = dict(intercept = ols.params['Intercept'],\n",
        "           sqft_lot_coef = ols.params['sqft_living'],\n",
        "           cf_lower_bound = param2[0],\n",
        "           cf_upper_bound = param2[1])\n",
        "\n",
        "print(ols)"
      ],
      "execution_count": 31,
      "outputs": [
        {
          "output_type": "stream",
          "text": [
            "                            OLS Regression Results                            \n",
            "==============================================================================\n",
            "Dep. Variable:                      y   R-squared:                       0.493\n",
            "Model:                            OLS   Adj. R-squared:                  0.493\n",
            "Method:                 Least Squares   F-statistic:                 2.100e+04\n",
            "Date:                Wed, 25 Nov 2020   Prob (F-statistic):               0.00\n",
            "Time:                        04:14:38   Log-Likelihood:            -3.0020e+05\n",
            "No. Observations:               21607   AIC:                         6.004e+05\n",
            "Df Residuals:                   21605   BIC:                         6.004e+05\n",
            "Df Model:                           1                                         \n",
            "Covariance Type:            nonrobust                                         \n",
            "===============================================================================\n",
            "                  coef    std err          t      P>|t|      [0.025      0.975]\n",
            "-------------------------------------------------------------------------------\n",
            "Intercept   -4.387e+04   4406.106     -9.957      0.000   -5.25e+04   -3.52e+04\n",
            "sqft_living   280.8108      1.938    144.906      0.000     277.012     284.609\n",
            "==============================================================================\n",
            "Omnibus:                    14809.356   Durbin-Watson:                   1.983\n",
            "Prob(Omnibus):                  0.000   Jarque-Bera (JB):           543044.843\n",
            "Skew:                           2.820   Prob(JB):                         0.00\n",
            "Kurtosis:                      26.904   Cond. No.                     5.63e+03\n",
            "==============================================================================\n",
            "\n",
            "Warnings:\n",
            "[1] Standard Errors assume that the covariance matrix of the errors is correctly specified.\n",
            "[2] The condition number is large, 5.63e+03. This might indicate that there are\n",
            "strong multicollinearity or other numerical problems.\n",
            "{'intercept': -43872.275272483384, 'sqft_lot_coef': 280.81084868331027, 'cf_lower_bound': 277.01244268809813, 'cf_upper_bound': 284.6092546785224}\n"
          ],
          "name": "stdout"
        }
      ]
    },
    {
      "cell_type": "code",
      "metadata": {
        "colab": {
          "base_uri": "https://localhost:8080/",
          "height": 307
        },
        "id": "QCM884190mxv",
        "outputId": "c362f42d-5828-4fda-d0f0-a7993314e800"
      },
      "source": [
        "x2 = df_house2['sqft_living'].values\n",
        "y2 = df_house2['price'].values\n",
        "\n",
        "plt.figure(3)\n",
        "plt.scatter(x2, y2)\n",
        "plt.xlabel(\"sqft_living\")\n",
        "plt.ylabel(\"price\")"
      ],
      "execution_count": 33,
      "outputs": [
        {
          "output_type": "execute_result",
          "data": {
            "text/plain": [
              "Text(0, 0.5, 'price')"
            ]
          },
          "metadata": {
            "tags": []
          },
          "execution_count": 33
        },
        {
          "output_type": "display_data",
          "data": {
            "image/png": "[encoded data removed]",
            "text/plain": [
              "<Figure size 432x288 with 1 Axes>"
            ]
          },
          "metadata": {
            "tags": [],
            "needs_background": "light"
          }
        }
      ]
    },
    {
      "cell_type": "markdown",
      "metadata": {
        "id": "o-f1QaPhbY-w"
      },
      "source": [
        "### Ridge Regression"
      ]
    },
    {
      "cell_type": "markdown",
      "metadata": {
        "id": "PoiqgP7scgh0"
      },
      "source": [
        ">>* Ridge regression is an extension of linear regression where the loss function is modified to minimize the complexity of the model. This modification is done by adding a penalty parameter that is equivalent to the square of the magnitude of the coefficients.\n",
        "\n",
        "* Loss function = OLS + alpha * summation (squared coefficient values)\n",
        "\n",
        ">>* In the above loss function, alpha is the parameter we need to select. A low alpha value can lead to over-fitting, whereas a high alpha value can lead to under-fitting.\n",
        "\n",
        ">>* In scikit-learn, a ridge regression model is constructed by using the Ridge class. The first line of code below instantiates the Ridge Regression model with an alpha value of 0.01."
      ]
    },
    {
      "cell_type": "code",
      "metadata": {
        "id": "FghFVcklcGMI"
      },
      "source": [
        "from sklearn.linear_model import Ridge\n",
        "from sklearn.metrics import r2_score\n",
        "from sklearn.model_selection import train_test_split\n",
        "from sklearn.metrics import mean_squared_error\n",
        "from math import sqrt\n",
        "from sklearn.linear_model import LinearRegression\n",
        "from sklearn.preprocessing import StandardScaler"
      ],
      "execution_count": 10,
      "outputs": []
    },
    {
      "cell_type": "code",
      "metadata": {
        "id": "kFJJ4oRJbdoe"
      },
      "source": [
        "rr = Ridge(alpha=0.01)\n",
        "rr.fit(x_train, y_train) \n",
        "# Standarize features\n",
        "scaler = StandardScaler()\n",
        "x_std = scaler.fit_transform(x)\n",
        "#predict test and train datasets\n",
        "pred_train_rr= rr.predict(x_train)\n",
        "pred_test_rr= rr.predict(x_test)\n"
      ],
      "execution_count": 38,
      "outputs": []
    },
    {
      "cell_type": "code",
      "metadata": {
        "colab": {
          "base_uri": "https://localhost:8080/"
        },
        "id": "mRzv39Y7cDRw",
        "outputId": "95cf98a7-27e4-4cc1-9e0b-3410fa37dd04"
      },
      "source": [
        "#rmse for train dataset\n",
        "print(np.sqrt(mean_squared_error(y_train,pred_train)))\n",
        "print(r2_score(y_train, pred_train))\n",
        "#rmse for test dataset\n",
        "print(np.sqrt(mean_squared_error(y_test,y_pred))) \n",
        "print(r2_score(y_test, y_pred))"
      ],
      "execution_count": 39,
      "outputs": [
        {
          "output_type": "stream",
          "text": [
            "241927.93692323082\n",
            "0.5512250553888889\n",
            "256134.10823062673\n",
            "0.5492509326882564\n"
          ],
          "name": "stdout"
        }
      ]
    },
    {
      "cell_type": "code",
      "metadata": {
        "colab": {
          "base_uri": "https://localhost:8080/"
        },
        "id": "lqVGM_6ZezD8",
        "outputId": "2598cb30-86f5-489c-ed1b-99192c63e88c"
      },
      "source": [
        "coef_rr = {}\n",
        "for coef, feat in zip(model.coef_,df_house2.columns):\n",
        "    coef_rr[feat] = coef\n",
        "coef_rr"
      ],
      "execution_count": 40,
      "outputs": [
        {
          "output_type": "execute_result",
          "data": {
            "text/plain": [
              "{'bathrooms': 153.24586636963795,\n",
              " 'bedrooms': -23115.87179882882,\n",
              " 'condition': 116.2472958418548,\n",
              " 'grade': 18.42499510986272,\n",
              " 'price': -44242.30059443797,\n",
              " 'sqft_living': 102909.32907000881,\n",
              " 'sqft_lot': 36.99857051625986}"
            ]
          },
          "metadata": {
            "tags": []
          },
          "execution_count": 40
        }
      ]
    },
    {
      "cell_type": "markdown",
      "metadata": {
        "id": "PRJyhLcndKNI"
      },
      "source": [
        ">>The above output shows that the RMSE and R-squared values for the Ridge Regression model on the training data is 233614 thousand and 58.2 percent, respectively. For the test data, the result for these metrics is 248167 thousand and 57 percent, respectively."
      ]
    },
    {
      "cell_type": "markdown",
      "metadata": {
        "id": "vA483PgUgSXG"
      },
      "source": [
        "### Lasso Regression"
      ]
    },
    {
      "cell_type": "markdown",
      "metadata": {
        "id": "SCWqBgf_gmFg"
      },
      "source": [
        ">>* Lasso regression, or the Least Absolute Shrinkage and Selection Operator, is also a modification of linear regression. In Lasso, the loss function is modified to minimize the complexity of the model by limiting the sum of the absolute values of the model coefficients (also called the l1-norm).\n",
        "\n",
        "* Loss function = OLS + alpha * summation (absolute values of the magnitude of the coefficients)\n",
        "\n",
        ">>* In the above loss function, alpha is the penalty parameter we need to select. Using an l1 norm constraint forces some weight values to zero to allow other coefficients to take non-zero values.\n",
        ">>* In scikit-learn, a lasso regression model is constructed by using the Lasso class. The first line of code below instantiates the Lasso Regression model with an alpha value of 0.01"
      ]
    },
    {
      "cell_type": "code",
      "metadata": {
        "id": "qrQeVzzAhUgX"
      },
      "source": [
        "from sklearn.linear_model import Lasso\n",
        "from sklearn.metrics import r2_score\n",
        "from sklearn.model_selection import train_test_split\n",
        "from sklearn.metrics import mean_squared_error\n",
        "from math import sqrt\n",
        "from sklearn.linear_model import LinearRegression"
      ],
      "execution_count": 42,
      "outputs": []
    },
    {
      "cell_type": "code",
      "metadata": {
        "id": "t1PYfZyfgXyI"
      },
      "source": [
        "model_lasso = Lasso(alpha=0.01)\n",
        "model_lasso.fit(x_train, y_train) \n",
        "# Standarize features\n",
        "scaler = StandardScaler()\n",
        "x_std = scaler.fit_transform(x)\n",
        "pred_train_lasso= model_lasso.predict(x_train)\n",
        "pred_test_lasso= model_lasso.predict(x_test)"
      ],
      "execution_count": 43,
      "outputs": []
    },
    {
      "cell_type": "code",
      "metadata": {
        "colab": {
          "base_uri": "https://localhost:8080/"
        },
        "id": "hAlGxEvGhOH6",
        "outputId": "488eea16-7c2b-4da4-dfa6-ab513c0292b8"
      },
      "source": [
        "#the train dataset\n",
        "print(np.sqrt(mean_squared_error(y_train,pred_train_lasso)))\n",
        "print(r2_score(y_train, pred_train_lasso))\n",
        "#the test dataset\n",
        "print(np.sqrt(mean_squared_error(y_test,pred_test_lasso))) \n",
        "print(r2_score(y_test, pred_test_lasso))"
      ],
      "execution_count": 44,
      "outputs": [
        {
          "output_type": "stream",
          "text": [
            "241927.93692323248\n",
            "0.5512250553888827\n",
            "256134.1079291159\n",
            "0.5492509337494639\n"
          ],
          "name": "stdout"
        }
      ]
    },
    {
      "cell_type": "markdown",
      "metadata": {
        "id": "gikDrNqBh70a"
      },
      "source": [
        ">>* The above output shows that the RMSE and R-squared values for the Lasso Regression model on the training data is 233613 thousand and 58.2 percent, respectively.\n",
        "\n",
        ">>* The results for these metrics on the test data is 248172 thousand and 57 percent, respectively. **Lasso Regression can also be used for feature selection because the coeﬃcients of less important features are reduced to zero.As shown below**"
      ]
    },
    {
      "cell_type": "code",
      "metadata": {
        "colab": {
          "base_uri": "https://localhost:8080/",
          "height": 223
        },
        "id": "dkSXoh5oiWDL",
        "outputId": "1eab955e-d8cc-47d4-a81e-6cab40257b12"
      },
      "source": [
        "# Importing library for visualization\n",
        "import matplotlib.pyplot as plt\n",
        "coefsLasso = [] \n",
        "# Building Lasso for 200 values of alpha and write the coefficients into array\n",
        "# \n",
        "alphasLasso = np.arange (0, 20, 0.1) \n",
        "for i in range(200):\n",
        "    lasso = model_lasso(alpha=alphasLasso[i])\n",
        "    lasso.fit(x_train, y_train)\n",
        "    coefsLasso.append(lasso.coef_)\n",
        "# Building Lasso coefficient plots\n",
        "plt.figure(figsize = (16,7))\n",
        "plt.subplot(121)\n",
        "plt.plot(alphasLasso, coefsLasso)\n",
        "plt.title('Lasso coefficients')\n",
        "plt.xlabel('alpha')\n",
        "plt.ylabel('coefs')\n",
        "\n",
        "plt.show()\n"
      ],
      "execution_count": 45,
      "outputs": [
        {
          "output_type": "error",
          "ename": "TypeError",
          "evalue": "ignored",
          "traceback": [
            "\u001b[0;31m---------------------------------------------------------------------------\u001b[0m",
            "\u001b[0;31mTypeError\u001b[0m                                 Traceback (most recent call last)",
            "\u001b[0;32m<ipython-input-45-b164d7ffbd4e>\u001b[0m in \u001b[0;36m<module>\u001b[0;34m()\u001b[0m\n\u001b[1;32m      6\u001b[0m \u001b[0malphasLasso\u001b[0m \u001b[0;34m=\u001b[0m \u001b[0mnp\u001b[0m\u001b[0;34m.\u001b[0m\u001b[0marange\u001b[0m \u001b[0;34m(\u001b[0m\u001b[0;36m0\u001b[0m\u001b[0;34m,\u001b[0m \u001b[0;36m20\u001b[0m\u001b[0;34m,\u001b[0m \u001b[0;36m0.1\u001b[0m\u001b[0;34m)\u001b[0m\u001b[0;34m\u001b[0m\u001b[0;34m\u001b[0m\u001b[0m\n\u001b[1;32m      7\u001b[0m \u001b[0;32mfor\u001b[0m \u001b[0mi\u001b[0m \u001b[0;32min\u001b[0m \u001b[0mrange\u001b[0m\u001b[0;34m(\u001b[0m\u001b[0;36m200\u001b[0m\u001b[0;34m)\u001b[0m\u001b[0;34m:\u001b[0m\u001b[0;34m\u001b[0m\u001b[0;34m\u001b[0m\u001b[0m\n\u001b[0;32m----> 8\u001b[0;31m     \u001b[0mlasso\u001b[0m \u001b[0;34m=\u001b[0m \u001b[0mmodel_lasso\u001b[0m\u001b[0;34m(\u001b[0m\u001b[0malpha\u001b[0m\u001b[0;34m=\u001b[0m\u001b[0malphasLasso\u001b[0m\u001b[0;34m[\u001b[0m\u001b[0mi\u001b[0m\u001b[0;34m]\u001b[0m\u001b[0;34m)\u001b[0m\u001b[0;34m\u001b[0m\u001b[0;34m\u001b[0m\u001b[0m\n\u001b[0m\u001b[1;32m      9\u001b[0m     \u001b[0mlasso\u001b[0m\u001b[0;34m.\u001b[0m\u001b[0mfit\u001b[0m\u001b[0;34m(\u001b[0m\u001b[0mx_train\u001b[0m\u001b[0;34m,\u001b[0m \u001b[0my_train\u001b[0m\u001b[0;34m)\u001b[0m\u001b[0;34m\u001b[0m\u001b[0;34m\u001b[0m\u001b[0m\n\u001b[1;32m     10\u001b[0m     \u001b[0mcoefsLasso\u001b[0m\u001b[0;34m.\u001b[0m\u001b[0mappend\u001b[0m\u001b[0;34m(\u001b[0m\u001b[0mlasso\u001b[0m\u001b[0;34m.\u001b[0m\u001b[0mcoef_\u001b[0m\u001b[0;34m)\u001b[0m\u001b[0;34m\u001b[0m\u001b[0;34m\u001b[0m\u001b[0m\n",
            "\u001b[0;31mTypeError\u001b[0m: 'Lasso' object is not callable"
          ]
        }
      ]
    },
    {
      "cell_type": "markdown",
      "metadata": {
        "id": "u9p-44vOj84r"
      },
      "source": [
        "### ElasticNet Regression"
      ]
    },
    {
      "cell_type": "markdown",
      "metadata": {
        "id": "UfmUUw0JkAtu"
      },
      "source": [
        ">>* ElasticNet combines the properties of both Ridge and Lasso regression. It works by penalizing the model using both the l2-norm and the l1-norm.\n",
        "\n",
        "In scikit-learn, an ElasticNet regression model is constructed by using the ElasticNet class. The first line of code below instantiates the ElasticNet Regression with an alpha value of 0.01."
      ]
    },
    {
      "cell_type": "code",
      "metadata": {
        "id": "Dienru1Okh3a"
      },
      "source": [
        "from sklearn.linear_model import ElasticNet\n",
        "from sklearn.metrics import r2_score\n",
        "from sklearn.model_selection import train_test_split\n",
        "from sklearn.metrics import mean_squared_error\n",
        "from math import sqrt\n",
        "from sklearn.linear_model import LinearRegression"
      ],
      "execution_count": 48,
      "outputs": []
    },
    {
      "cell_type": "code",
      "metadata": {
        "colab": {
          "base_uri": "https://localhost:8080/"
        },
        "id": "OF8WCGZ1j_PN",
        "outputId": "78d8d0c9-9747-4b8a-f694-84e391b30dff"
      },
      "source": [
        "#Elastic Net\n",
        "model_enet = ElasticNet(alpha = 0.01)\n",
        "model_enet.fit(x_train, y_train) \n",
        "# Standarize features\n",
        "scaler = StandardScaler()\n",
        "x_std = scaler.fit_transform(x)\n",
        "pred_train_enet= model_enet.predict(x_train)\n",
        "pred_test_enet= model_enet.predict(x_test)"
      ],
      "execution_count": 49,
      "outputs": [
        {
          "output_type": "stream",
          "text": [
            "/usr/local/lib/python3.6/dist-packages/sklearn/linear_model/_coordinate_descent.py:476: ConvergenceWarning: Objective did not converge. You might want to increase the number of iterations. Duality gap: 441101022353615.44, tolerance: 197246865560.27765\n",
            "  positive)\n"
          ],
          "name": "stderr"
        }
      ]
    },
    {
      "cell_type": "code",
      "metadata": {
        "colab": {
          "base_uri": "https://localhost:8080/"
        },
        "id": "3tAK0ZYFka26",
        "outputId": "186e4abe-2352-4886-cb70-75a37dedbebc"
      },
      "source": [
        "#train dataset\n",
        "print(np.sqrt(mean_squared_error(y_train,pred_train_enet)))\n",
        "print(r2_score(y_train, pred_train_enet))\n",
        "\n",
        "#test dataset\n",
        "print(np.sqrt(mean_squared_error(y_test,pred_test_enet)))\n",
        "print(r2_score(y_test, pred_test_enet))"
      ],
      "execution_count": 50,
      "outputs": [
        {
          "output_type": "stream",
          "text": [
            "241929.37724163578\n",
            "0.5512197118081124\n",
            "256131.26878823582\n",
            "0.5492609264288326\n"
          ],
          "name": "stdout"
        }
      ]
    },
    {
      "cell_type": "markdown",
      "metadata": {
        "id": "nkhxc4CrlMcB"
      },
      "source": [
        ">>* The above output shows that the RMSE and R-squared value for the ElasticNet Regression model on the training data is 233615 thousand and 58 percent, respectively. The results for these metrics on the test data is 248195 thousand and 57 percent, respectively."
      ]
    },
    {
      "cell_type": "code",
      "metadata": {
        "id": "9r7hBGhAlb5l"
      },
      "source": [
        ""
      ],
      "execution_count": null,
      "outputs": []
    },
    {
      "cell_type": "markdown",
      "metadata": {
        "id": "jc3HxrJZlcuw"
      },
      "source": [
        "### Conclusion"
      ]
    },
    {
      "cell_type": "markdown",
      "metadata": {
        "id": "RHwokPMjljr1"
      },
      "source": [
        ">>* The performance of the models is summarized below:\n",
        "\n",
        "1. Linear Regression Model: Test set RMSE of 248195.7 thousand and R-square of 58.27 percent.\n",
        "\n",
        "2. Ridge Regression Model: Test set RMSE of 248195.7thousand and R-square of 58.27 percent.\n",
        "\n",
        "3. Lasso Regression Model: Test set RMSE of 248195.7 thousand and R-square of 58.27 percent.\n",
        "\n",
        "4. ElasticNet Regression Model: Test set RMSE of 248195.7thousand and R-square of 58.27 percent.\n",
        "\n",
        "All Regression modelS ARE performing the SAME. They are performing fairly bad with a decent R-squared and stable RMSE values. The most ideal result would be an RMSE value of zero and R-squared value of 1, but that's almost impossible in real economic datasets.\n",
        "\n",
        ">>* There are other iterations that can be done to improve model performance. We have assigned the value of alpha to be 0.01, but this can be altered by hyper parameter tuning to arrive at the optimal alpha value.\n",
        ">>* Cross-validation can also be tried along with feature selection techniques. However, that is not covered in this guide which was aimed at enabling individuals to understand and implement the various Linear Regression models using the scikit-learn library."
      ]
    }
  ]
}