{
  "nbformat": 4,
  "nbformat_minor": 0,
  "metadata": {
    "colab": {
      "name": "Untitled",
      "provenance": [],
      "toc_visible": true,
      "authorship_tag": "ABX9TyMZnQpP28mAmoVMrkPitq1J",
      "include_colab_link": true
    },
    "kernelspec": {
      "name": "python3",
      "display_name": "Python 3"
    }
  },
  "cells": [
    {
      "cell_type": "markdown",
      "metadata": {
        "id": "view-in-github",
        "colab_type": "text"
      },
      "source": [
        "<a href=\"https://colab.research.google.com/github/Eswa2020/week-7-core-project/blob/main/Untitled.ipynb\" target=\"_parent\"><img src=\"https://colab.research.google.com/assets/colab-badge.svg\" alt=\"Open In Colab\"/></a>"
      ]
    },
    {
      "cell_type": "markdown",
      "metadata": {
        "id": "JW1EsUKs4BkV"
      },
      "source": [
        "### 1. Defining the Question"
      ]
    },
    {
      "cell_type": "markdown",
      "metadata": {
        "id": "jJ4V28v74uj5"
      },
      "source": [
        "#### a) Specifying the Reserch Question"
      ]
    },
    {
      "cell_type": "markdown",
      "metadata": {
        "id": "LyIzZqgo5BdB"
      },
      "source": [
        "\n",
        "Nairobi Hospital conducted a clinical camp to test for hypothyroidism. The data collected focused on Thyroid patients. We are to use the healthcare datasets provided to accomplish the following:  \n",
        "\n",
        "**Build a model that determines whether or not the patient's symptoms indicate that the patient has hypothyroid.**\n",
        "\n",
        "We should use the following two criterions:\n",
        "\n",
        "Part 1: Decision trees:\n",
        "- For this section, you should build a model that makes the above prediction. You should not use individual decision trees, rather you should use at least 2 out of the 3 advanced models we have studied: Random forests, Ada boosted trees, and gradient boosted trees.\n",
        "- Try and optimize each of the 2 models, making sure to document how you've set up your hyperparameters.\n",
        "- Identify which of the 2 models you trust most, and use your model to determine which features are most impactful in influencing the prediction\n",
        "- Note that with decision trees, you don't need to do a lot of data cleaning. This will be very different with SVM.\n",
        "\n",
        "Part 2: SVM:\n",
        "\n",
        "- In this section, you may be required to clean the data a little bit so as to make sense of the features.\n",
        "\n",
        "- Document what transformation you've done on the data.\n",
        "\n",
        "- Apply Polynomial, linear and rbf kernel function to build your SVM model and then evaluate their performance and pick the kernel that performs the best. Remember to tune your parameters to improve the performance of your model. To make your life easier, make sure to visualize the models you've created. Use any two features to build the models for this step.\n",
        "\n",
        "Hint: You may want to use decision trees to give you the most preferable features you can use. but also keep in mind that those features might not be suitable for SVM. It might be a good idea to graph them first.\n",
        "\n",
        "-  After getting your best performing kernel, use this kernel together with your tuned parameters and repeat the prediction but this time using additional features. Compare the model you've just created with the 2-features version. \n"
      ]
    },
    {
      "cell_type": "markdown",
      "metadata": {
        "id": "J0BaFTrE6Qzw"
      },
      "source": [
        "#### b) Defining the Metrics of Success"
      ]
    },
    {
      "cell_type": "markdown",
      "metadata": {
        "id": "BETovuFo6l2M"
      },
      "source": [
        "We will have accomplished our objective if we get at models matching all the above-mentioned criteria."
      ]
    },
    {
      "cell_type": "markdown",
      "metadata": {
        "id": "Snj8kqhF67Z0"
      },
      "source": [
        "#### c) Understanding the context"
      ]
    },
    {
      "cell_type": "markdown",
      "metadata": {
        "id": "4nBODZCo67NQ"
      },
      "source": [
        "**Introduction**\n",
        "\n",
        "Thyroid diseases are common worldwide and affecting\n",
        "health life. In this notebook, we have made an attempt to diagnosis\n",
        "hypothyroid. This notebook analyzes few essential variables\n",
        "affecting thyroid.To overcome the problem we have come\n",
        "here with a novel solution approach to identify key factors\n",
        "affecting hypothyroid using data analysis tools. This notebook presents\n",
        "thyroid data analysis, classification and prediction. \n",
        "\n",
        "**Overview** \n",
        "\n",
        "Hypothyroidism (underactive thyroid) is a condition in which your thyroid gland doesn't produce enough of certain crucial hormones.\n",
        "\n",
        "Hypothyroidism may not cause noticeable symptoms in the early stages. Over time, untreated hypothyroidism can cause a number of health problems, such as obesity, joint pain, infertility and heart disease.\n",
        "\n",
        "Accurate thyroid function tests are available to diagnose hypothyroidism.\n",
        "\n",
        "**Symptoms**\n",
        "\n",
        "The signs and symptoms of hypothyroidism vary, depending on the severity of the hormone deficiency. Problems tend to develop slowly, often over a number of years.\n",
        "\n",
        "At first, you may barely notice the symptoms of hypothyroidism, such as fatigue and weight gain. Or you may simply attribute them to getting older. But as your metabolism continues to slow, you may develop more-obvious problems.\n",
        "\n",
        "Hypothyroidism signs and symptoms may include:\n",
        "\n",
        "* Fatigue\n",
        "* Increased sensitivity to cold\n",
        "* Constipation\n",
        "* Dry skin\n",
        "* Weight gain\n",
        "* Muscle weakness\n",
        "* Thinning hair\n",
        "* Slowed heart rate\n",
        "* Depression\n",
        "* Impaired memory\n",
        "* Enlarged thyroid gland (goiter)\n",
        "\n",
        "**Causes**\n",
        "When your thyroid doesn't produce enough hormones, the balance of chemical reactions in your body can be upset.\n",
        "\n",
        "Your thyroid is a small, butterfly-shaped gland situated at the base of the front of your neck, just below your Adam's apple. Hormones produced by the thyroid gland — **triiodothyronine (T3) **and **thyroxine (T4)** — have an enormous impact on your health, affecting all aspects of your metabolism. These hormones also influence the control of vital functions, such as body temperature and heart rate.\n",
        "\n",
        "Hypothyroidism may be due to a number of factors, including:\n",
        "\n",
        "**Autoimmune disease**. The most common cause of hypothyroidism is an autoimmune disorder known as Hashimoto's thyroiditis. Autoimmune disorders occur when your immune system produces antibodies that attack your own tissues. Sometimes this process involves your thyroid gland.\n",
        "Scientists aren't sure why this happens, but it's likely a combination of factors, such as your genes and an environmental trigger. \n",
        "\n",
        "**Over-response to hyperthyroidism treatment**. People who produce too much thyroid hormone (hyperthyroidism) are often treated with radioactive iodine or anti-thyroid medications. The goal of these treatments is to get thyroid function back to normal. But sometimes, correcting hyperthyroidism can end up lowering thyroid hormone production too much, resulting in permanent hypothyroidism.\n",
        "\n",
        "**Thyroid surgery.** Removing all or a large portion of your thyroid gland can diminish or halt hormone production. In that case, you'll need to take thyroid hormone for life.\n",
        "\n",
        "**Radiation therapy.** Radiation used to treat cancers of the head and neck can affect your thyroid gland and may lead to hypothyroidism.\n",
        "\n",
        "**Medications.** A number of medications can contribute to hypothyroidism. One such medication is lithium, which is used to treat certain psychiatric disorders. If you're taking medication, ask your doctor about its effect on your thyroid gland.\n",
        "\n",
        "Less often, hypothyroidism may result from one of the following:\n",
        "\n",
        "**Congenital disease.** Some babies are born with a defective thyroid gland or no thyroid gland. In most cases, the thyroid gland didn't develop normally for unknown reasons, but some children have an inherited form of the disorder. Often, infants with congenital hypothyroidism appear normal at birth. That's one reason why most states now require newborn thyroid screening.\n",
        "\n",
        "**Pituitary disorder**. A relatively rare cause of hypothyroidism is the failure of the pituitary gland to produce enough thyroid-stimulating hormone (TSH) — usually because of a benign tumor of the pituitary gland.\n",
        "\n",
        "**Pregnancy**. Some women develop hypothyroidism during or after pregnancy (postpartum hypothyroidism), often because they produce antibodies to their own thyroid gland. Left untreated, hypothyroidism increases the risk of miscarriage, premature delivery and preeclampsia.\n",
        "\n",
        "**Iodine deficiency**. The trace mineral iodine — found primarily in seafood, seaweed, plants grown in iodine-rich soil and iodized salt — is essential for the production of thyroid hormones. Too little iodine can lead to hypothyroidism, and too much iodine can worsen hypothyroidism in people who already have the condition.\n",
        "\n",
        "**Statistics**\n",
        "In some parts of the world, iodine deficiency is common, but the addition of iodine to table salt has virtually eliminated this problem in the United States.\n",
        "\n",
        "**In Kenya the statistics are vague and very few studies to back up the numbers**."
      ]
    },
    {
      "cell_type": "markdown",
      "metadata": {
        "id": "t7GGuFsvaYjO"
      },
      "source": [
        "### 2. Objective of the Project\n",
        "The main objective of this project is to determine factors affecting prices of houses and developing a model to effectively predict the sale prices.\n",
        "\n",
        "* Definition of the research question and metrics of success.\n",
        "\n",
        "* Loading of Dataset to Colab.\n",
        "\n",
        "* Validation.\n",
        "\n",
        "* Tidying the dataset.\n",
        "\n",
        "* Exploratory Data Analysis: Univariate Analysis, Bivariate Analysis &    Multivariate Analysis\n",
        "\n",
        "* Decision trees\n",
        "\n",
        "* svm-get best performimg kernel\n",
        "\n",
        "* Chalenging the solution\n",
        "\n",
        "* Conclusion\n",
        "\n",
        "Tools required for the project;\n",
        "\n",
        "* Google Colab\n",
        "\n",
        "* Python Library (Pandas, Numpy, matplotlib.pyplot, Seaborn, Sklearn)\n",
        "\n",
        "* Github"
      ]
    },
    {
      "cell_type": "markdown",
      "metadata": {
        "id": "i5S1cPkHlWGj"
      },
      "source": [
        "### 3. Importing Libraries and loading datasets"
      ]
    },
    {
      "cell_type": "code",
      "metadata": {
        "id": "kaNRiLd2301f"
      },
      "source": [
        ""
      ],
      "execution_count": null,
      "outputs": []
    }
  ]
}